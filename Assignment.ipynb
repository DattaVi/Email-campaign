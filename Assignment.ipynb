{
  "cells": [
    {
      "cell_type": "code",
      "execution_count": 1,
      "metadata": {
        "id": "xHUfeldOPik7"
      },
      "outputs": [],
      "source": [
        "import pandas as pd\n",
        "import numpy as np\n",
        "import matplotlib.pyplot as plt\n",
        "import seaborn as sns"
      ]
    },
    {
      "cell_type": "code",
      "execution_count": 2,
      "metadata": {
        "id": "UUQIBm4mRy8u"
      },
      "outputs": [],
      "source": [
        "import tensorflow as tf"
      ]
    },
    {
      "cell_type": "code",
      "execution_count": 28,
      "metadata": {
        "id": "0-5e70HVR1ml"
      },
      "outputs": [],
      "source": [
        "df=pd.DataFrame(pd.read_pickle(\"/content/email_campaigns.pkl\"))"
      ]
    },
    {
      "cell_type": "code",
      "execution_count": 29,
      "metadata": {
        "colab": {
          "base_uri": "https://localhost:8080/"
        },
        "id": "hv0CE9QaR-9j",
        "outputId": "3faffa01-5dd1-4d9a-955c-4942e55acfa6"
      },
      "outputs": [
        {
          "data": {
            "text/plain": [
              "52"
            ]
          },
          "execution_count": 29,
          "metadata": {},
          "output_type": "execute_result"
        }
      ],
      "source": [
        "len(df)"
      ]
    },
    {
      "cell_type": "markdown",
      "metadata": {
        "id": "9Rx_7Dvu7SYk"
      },
      "source": [
        "# Exploratory Data Analysis\n"
      ]
    },
    {
      "cell_type": "code",
      "execution_count": 30,
      "metadata": {
        "colab": {
          "base_uri": "https://localhost:8080/"
        },
        "id": "In8xOMGhVQs2",
        "outputId": "38024086-424c-47c8-dd70-b9f0ef2a3d4d"
      },
      "outputs": [
        {
          "name": "stdout",
          "output_type": "stream",
          "text": [
            "    marketingAnalytics0 HRConsultingSeries marketingAnalyticsSeries  \\\n",
            "0                   NaN                NaN                      NaN   \n",
            "1                   NaN                NaN                      NaN   \n",
            "2                   NaN                NaN                      NaN   \n",
            "3                   NaN                NaN                      NaN   \n",
            "4                   NaN                NaN                      NaN   \n",
            "..                  ...                ...                      ...   \n",
            "100                 NaN                NaN                      NaN   \n",
            "101                 NaN                NaN                      NaN   \n",
            "102                 NaN                NaN                      NaN   \n",
            "103                 NaN                NaN                      NaN   \n",
            "104                 NaN                NaN                      NaN   \n",
            "\n",
            "    MarketingAnalyticsSeries series_legal IT_Solutions_Series  \\\n",
            "0                        NaN          NaN                 NaN   \n",
            "1                        NaN          NaN                 NaN   \n",
            "2                        NaN          NaN                 NaN   \n",
            "3                        NaN          NaN                 NaN   \n",
            "4                        NaN          NaN                 NaN   \n",
            "..                       ...          ...                 ...   \n",
            "100                      NaN          NaN                 NaN   \n",
            "101                      NaN          NaN                 NaN   \n",
            "102                      NaN          NaN                 NaN   \n",
            "103                      NaN          NaN                 NaN   \n",
            "104                      NaN          NaN                 NaN   \n",
            "\n",
            "    Marketing_Analytics_Series series_marketing_analytics series1  \\\n",
            "0                          NaN                        NaN     NaN   \n",
            "1                          NaN                        NaN     NaN   \n",
            "2                          NaN                        NaN     NaN   \n",
            "3                          NaN                        NaN     NaN   \n",
            "4                          NaN                        NaN     NaN   \n",
            "..                         ...                        ...     ...   \n",
            "100                        NaN                        NaN     NaN   \n",
            "101                        NaN                        NaN     NaN   \n",
            "102                        NaN                        NaN     NaN   \n",
            "103                        NaN                        NaN     NaN   \n",
            "104                        NaN                        NaN     NaN   \n",
            "\n",
            "    HR_Consulting_Series  ... Series1_HR_Consulting Series_IT_Solutions  \\\n",
            "0                    NaN  ...                   NaN                 NaN   \n",
            "1                    NaN  ...                   NaN                 NaN   \n",
            "2                    NaN  ...                   NaN                 NaN   \n",
            "3                    NaN  ...                   NaN                 NaN   \n",
            "4                    NaN  ...                   NaN                 NaN   \n",
            "..                   ...  ...                   ...                 ...   \n",
            "100                  NaN  ...                   NaN                 NaN   \n",
            "101                  NaN  ...                   NaN                 NaN   \n",
            "102                  NaN  ...                   NaN                 NaN   \n",
            "103                  NaN  ...                   NaN                 NaN   \n",
            "104                  NaN  ...                   NaN                 NaN   \n",
            "\n",
            "    email_series_marketing_analytics legal_services0  \\\n",
            "0                                NaN             NaN   \n",
            "1                                NaN             NaN   \n",
            "2                                NaN             NaN   \n",
            "3                                NaN             NaN   \n",
            "4                                NaN             NaN   \n",
            "..                               ...             ...   \n",
            "100                              NaN             NaN   \n",
            "101                              NaN             NaN   \n",
            "102                              NaN             NaN   \n",
            "103                              NaN             NaN   \n",
            "104                              NaN             NaN   \n",
            "\n",
            "                                               subject  \\\n",
            "0    🚀 Propel Your Marketing ROI with Advanced Anal...   \n",
            "1    Data is Your Superpower 📊 Unlock Insights with Us   \n",
            "2    Turn Marketing Data Into Decisions 🧐 Let's Exp...   \n",
            "3    Marketing Success is a Click Away - Let's Chat...   \n",
            "4    🚀 Boost Your Brand's Visibility with Proven Ma...   \n",
            "..                                                 ...   \n",
            "100                                                NaN   \n",
            "101                      Boost Your Brand Visibility 🚀   \n",
            "102    🔍 Outpace Competitors with Insightful Analytics   \n",
            "103                         Tailored Analytics for You   \n",
            "104          Let's Make Data-Driven Decisions Together   \n",
            "\n",
            "                                                  body opened  \\\n",
            "0    Hey [Recipient's Name],\\n\\nReady to see your m...  False   \n",
            "1    Hi [Recipient's Name],\\n\\nI'm reaching out aga...   True   \n",
            "2    Greetings [Recipient's Name],\\n\\nWe haven't co...  False   \n",
            "3    Hello [Recipient's Name],\\n\\nIt's clear that y...   True   \n",
            "4    Hi [Recipient's Name],\\n\\nIn the digital age, ...  False   \n",
            "..                                                 ...    ...   \n",
            "100                                                NaN    NaN   \n",
            "101  Hello [Recipient's Name],\\n\\nWant to skyrocket...   True   \n",
            "102  Hi [Recipient's Name],\\n\\nI noticed you're nav...   True   \n",
            "103  Hey [Recipient's Name],\\n\\nYour brand deserves...  False   \n",
            "104  Dear [Recipient's Name],\\n\\nI can't help but n...   True   \n",
            "\n",
            "    meeting link clicked responded meeting_link_clicked  \n",
            "0                  False     False                  NaN  \n",
            "1                  False     False                  NaN  \n",
            "2                  False     False                  NaN  \n",
            "3                   True     False                  NaN  \n",
            "4                  False     False                  NaN  \n",
            "..                   ...       ...                  ...  \n",
            "100                  NaN       NaN                  NaN  \n",
            "101                False     False                  NaN  \n",
            "102                False     False                  NaN  \n",
            "103                False     False                  NaN  \n",
            "104                 True     False                  NaN  \n",
            "\n",
            "[105 rows x 22 columns]\n"
          ]
        }
      ],
      "source": [
        "df = pd.DataFrame(df)\n",
        "\n",
        "\n",
        "df_extracted = pd.json_normalize(df['example1'].explode())\n",
        "\n",
        "df_result = pd.concat([df, df_extracted], axis=1)\n",
        "\n",
        "\n",
        "df_result.drop(columns=['example1'], inplace=True)\n",
        "\n",
        "print(df_result)"
      ]
    },
    {
      "cell_type": "code",
      "execution_count": 31,
      "metadata": {
        "colab": {
          "base_uri": "https://localhost:8080/",
          "height": 1000
        },
        "id": "VrNTTiZqVVwx",
        "outputId": "8a604d3f-6682-4bce-8ed0-0777ec5fd64d"
      },
      "outputs": [
        {
          "data": {
            "text/html": [
              "\n",
              "  <div id=\"df-f8660d26-0daa-44e1-a618-51045c698c65\" class=\"colab-df-container\">\n",
              "    <div>\n",
              "<style scoped>\n",
              "    .dataframe tbody tr th:only-of-type {\n",
              "        vertical-align: middle;\n",
              "    }\n",
              "\n",
              "    .dataframe tbody tr th {\n",
              "        vertical-align: top;\n",
              "    }\n",
              "\n",
              "    .dataframe thead th {\n",
              "        text-align: right;\n",
              "    }\n",
              "</style>\n",
              "<table border=\"1\" class=\"dataframe\">\n",
              "  <thead>\n",
              "    <tr style=\"text-align: right;\">\n",
              "      <th></th>\n",
              "      <th>marketingAnalytics0</th>\n",
              "      <th>HRConsultingSeries</th>\n",
              "      <th>marketingAnalyticsSeries</th>\n",
              "      <th>MarketingAnalyticsSeries</th>\n",
              "      <th>series_legal</th>\n",
              "      <th>IT_Solutions_Series</th>\n",
              "      <th>Marketing_Analytics_Series</th>\n",
              "      <th>series_marketing_analytics</th>\n",
              "      <th>series1</th>\n",
              "      <th>HR_Consulting_Series</th>\n",
              "      <th>...</th>\n",
              "      <th>Series1_HR_Consulting</th>\n",
              "      <th>Series_IT_Solutions</th>\n",
              "      <th>email_series_marketing_analytics</th>\n",
              "      <th>legal_services0</th>\n",
              "      <th>subject</th>\n",
              "      <th>body</th>\n",
              "      <th>opened</th>\n",
              "      <th>meeting link clicked</th>\n",
              "      <th>responded</th>\n",
              "      <th>meeting_link_clicked</th>\n",
              "    </tr>\n",
              "  </thead>\n",
              "  <tbody>\n",
              "    <tr>\n",
              "      <th>0</th>\n",
              "      <td>NaN</td>\n",
              "      <td>NaN</td>\n",
              "      <td>NaN</td>\n",
              "      <td>NaN</td>\n",
              "      <td>NaN</td>\n",
              "      <td>NaN</td>\n",
              "      <td>NaN</td>\n",
              "      <td>NaN</td>\n",
              "      <td>NaN</td>\n",
              "      <td>NaN</td>\n",
              "      <td>...</td>\n",
              "      <td>NaN</td>\n",
              "      <td>NaN</td>\n",
              "      <td>NaN</td>\n",
              "      <td>NaN</td>\n",
              "      <td>🚀 Propel Your Marketing ROI with Advanced Anal...</td>\n",
              "      <td>Hey [Recipient's Name],\\n\\nReady to see your m...</td>\n",
              "      <td>False</td>\n",
              "      <td>False</td>\n",
              "      <td>False</td>\n",
              "      <td>NaN</td>\n",
              "    </tr>\n",
              "    <tr>\n",
              "      <th>1</th>\n",
              "      <td>NaN</td>\n",
              "      <td>NaN</td>\n",
              "      <td>NaN</td>\n",
              "      <td>NaN</td>\n",
              "      <td>NaN</td>\n",
              "      <td>NaN</td>\n",
              "      <td>NaN</td>\n",
              "      <td>NaN</td>\n",
              "      <td>NaN</td>\n",
              "      <td>NaN</td>\n",
              "      <td>...</td>\n",
              "      <td>NaN</td>\n",
              "      <td>NaN</td>\n",
              "      <td>NaN</td>\n",
              "      <td>NaN</td>\n",
              "      <td>Data is Your Superpower 📊 Unlock Insights with Us</td>\n",
              "      <td>Hi [Recipient's Name],\\n\\nI'm reaching out aga...</td>\n",
              "      <td>True</td>\n",
              "      <td>False</td>\n",
              "      <td>False</td>\n",
              "      <td>NaN</td>\n",
              "    </tr>\n",
              "    <tr>\n",
              "      <th>2</th>\n",
              "      <td>NaN</td>\n",
              "      <td>NaN</td>\n",
              "      <td>NaN</td>\n",
              "      <td>NaN</td>\n",
              "      <td>NaN</td>\n",
              "      <td>NaN</td>\n",
              "      <td>NaN</td>\n",
              "      <td>NaN</td>\n",
              "      <td>NaN</td>\n",
              "      <td>NaN</td>\n",
              "      <td>...</td>\n",
              "      <td>NaN</td>\n",
              "      <td>NaN</td>\n",
              "      <td>NaN</td>\n",
              "      <td>NaN</td>\n",
              "      <td>Turn Marketing Data Into Decisions 🧐 Let's Exp...</td>\n",
              "      <td>Greetings [Recipient's Name],\\n\\nWe haven't co...</td>\n",
              "      <td>False</td>\n",
              "      <td>False</td>\n",
              "      <td>False</td>\n",
              "      <td>NaN</td>\n",
              "    </tr>\n",
              "    <tr>\n",
              "      <th>3</th>\n",
              "      <td>NaN</td>\n",
              "      <td>NaN</td>\n",
              "      <td>NaN</td>\n",
              "      <td>NaN</td>\n",
              "      <td>NaN</td>\n",
              "      <td>NaN</td>\n",
              "      <td>NaN</td>\n",
              "      <td>NaN</td>\n",
              "      <td>NaN</td>\n",
              "      <td>NaN</td>\n",
              "      <td>...</td>\n",
              "      <td>NaN</td>\n",
              "      <td>NaN</td>\n",
              "      <td>NaN</td>\n",
              "      <td>NaN</td>\n",
              "      <td>Marketing Success is a Click Away - Let's Chat...</td>\n",
              "      <td>Hello [Recipient's Name],\\n\\nIt's clear that y...</td>\n",
              "      <td>True</td>\n",
              "      <td>True</td>\n",
              "      <td>False</td>\n",
              "      <td>NaN</td>\n",
              "    </tr>\n",
              "    <tr>\n",
              "      <th>4</th>\n",
              "      <td>NaN</td>\n",
              "      <td>NaN</td>\n",
              "      <td>NaN</td>\n",
              "      <td>NaN</td>\n",
              "      <td>NaN</td>\n",
              "      <td>NaN</td>\n",
              "      <td>NaN</td>\n",
              "      <td>NaN</td>\n",
              "      <td>NaN</td>\n",
              "      <td>NaN</td>\n",
              "      <td>...</td>\n",
              "      <td>NaN</td>\n",
              "      <td>NaN</td>\n",
              "      <td>NaN</td>\n",
              "      <td>NaN</td>\n",
              "      <td>🚀 Boost Your Brand's Visibility with Proven Ma...</td>\n",
              "      <td>Hi [Recipient's Name],\\n\\nIn the digital age, ...</td>\n",
              "      <td>False</td>\n",
              "      <td>False</td>\n",
              "      <td>False</td>\n",
              "      <td>NaN</td>\n",
              "    </tr>\n",
              "    <tr>\n",
              "      <th>...</th>\n",
              "      <td>...</td>\n",
              "      <td>...</td>\n",
              "      <td>...</td>\n",
              "      <td>...</td>\n",
              "      <td>...</td>\n",
              "      <td>...</td>\n",
              "      <td>...</td>\n",
              "      <td>...</td>\n",
              "      <td>...</td>\n",
              "      <td>...</td>\n",
              "      <td>...</td>\n",
              "      <td>...</td>\n",
              "      <td>...</td>\n",
              "      <td>...</td>\n",
              "      <td>...</td>\n",
              "      <td>...</td>\n",
              "      <td>...</td>\n",
              "      <td>...</td>\n",
              "      <td>...</td>\n",
              "      <td>...</td>\n",
              "      <td>...</td>\n",
              "    </tr>\n",
              "    <tr>\n",
              "      <th>100</th>\n",
              "      <td>NaN</td>\n",
              "      <td>NaN</td>\n",
              "      <td>NaN</td>\n",
              "      <td>NaN</td>\n",
              "      <td>NaN</td>\n",
              "      <td>NaN</td>\n",
              "      <td>NaN</td>\n",
              "      <td>NaN</td>\n",
              "      <td>NaN</td>\n",
              "      <td>NaN</td>\n",
              "      <td>...</td>\n",
              "      <td>NaN</td>\n",
              "      <td>NaN</td>\n",
              "      <td>NaN</td>\n",
              "      <td>NaN</td>\n",
              "      <td>NaN</td>\n",
              "      <td>NaN</td>\n",
              "      <td>NaN</td>\n",
              "      <td>NaN</td>\n",
              "      <td>NaN</td>\n",
              "      <td>NaN</td>\n",
              "    </tr>\n",
              "    <tr>\n",
              "      <th>101</th>\n",
              "      <td>NaN</td>\n",
              "      <td>NaN</td>\n",
              "      <td>NaN</td>\n",
              "      <td>NaN</td>\n",
              "      <td>NaN</td>\n",
              "      <td>NaN</td>\n",
              "      <td>NaN</td>\n",
              "      <td>NaN</td>\n",
              "      <td>NaN</td>\n",
              "      <td>NaN</td>\n",
              "      <td>...</td>\n",
              "      <td>NaN</td>\n",
              "      <td>NaN</td>\n",
              "      <td>NaN</td>\n",
              "      <td>NaN</td>\n",
              "      <td>Boost Your Brand Visibility 🚀</td>\n",
              "      <td>Hello [Recipient's Name],\\n\\nWant to skyrocket...</td>\n",
              "      <td>True</td>\n",
              "      <td>False</td>\n",
              "      <td>False</td>\n",
              "      <td>NaN</td>\n",
              "    </tr>\n",
              "    <tr>\n",
              "      <th>102</th>\n",
              "      <td>NaN</td>\n",
              "      <td>NaN</td>\n",
              "      <td>NaN</td>\n",
              "      <td>NaN</td>\n",
              "      <td>NaN</td>\n",
              "      <td>NaN</td>\n",
              "      <td>NaN</td>\n",
              "      <td>NaN</td>\n",
              "      <td>NaN</td>\n",
              "      <td>NaN</td>\n",
              "      <td>...</td>\n",
              "      <td>NaN</td>\n",
              "      <td>NaN</td>\n",
              "      <td>NaN</td>\n",
              "      <td>NaN</td>\n",
              "      <td>🔍 Outpace Competitors with Insightful Analytics</td>\n",
              "      <td>Hi [Recipient's Name],\\n\\nI noticed you're nav...</td>\n",
              "      <td>True</td>\n",
              "      <td>False</td>\n",
              "      <td>False</td>\n",
              "      <td>NaN</td>\n",
              "    </tr>\n",
              "    <tr>\n",
              "      <th>103</th>\n",
              "      <td>NaN</td>\n",
              "      <td>NaN</td>\n",
              "      <td>NaN</td>\n",
              "      <td>NaN</td>\n",
              "      <td>NaN</td>\n",
              "      <td>NaN</td>\n",
              "      <td>NaN</td>\n",
              "      <td>NaN</td>\n",
              "      <td>NaN</td>\n",
              "      <td>NaN</td>\n",
              "      <td>...</td>\n",
              "      <td>NaN</td>\n",
              "      <td>NaN</td>\n",
              "      <td>NaN</td>\n",
              "      <td>NaN</td>\n",
              "      <td>Tailored Analytics for You</td>\n",
              "      <td>Hey [Recipient's Name],\\n\\nYour brand deserves...</td>\n",
              "      <td>False</td>\n",
              "      <td>False</td>\n",
              "      <td>False</td>\n",
              "      <td>NaN</td>\n",
              "    </tr>\n",
              "    <tr>\n",
              "      <th>104</th>\n",
              "      <td>NaN</td>\n",
              "      <td>NaN</td>\n",
              "      <td>NaN</td>\n",
              "      <td>NaN</td>\n",
              "      <td>NaN</td>\n",
              "      <td>NaN</td>\n",
              "      <td>NaN</td>\n",
              "      <td>NaN</td>\n",
              "      <td>NaN</td>\n",
              "      <td>NaN</td>\n",
              "      <td>...</td>\n",
              "      <td>NaN</td>\n",
              "      <td>NaN</td>\n",
              "      <td>NaN</td>\n",
              "      <td>NaN</td>\n",
              "      <td>Let's Make Data-Driven Decisions Together</td>\n",
              "      <td>Dear [Recipient's Name],\\n\\nI can't help but n...</td>\n",
              "      <td>True</td>\n",
              "      <td>True</td>\n",
              "      <td>False</td>\n",
              "      <td>NaN</td>\n",
              "    </tr>\n",
              "  </tbody>\n",
              "</table>\n",
              "<p>105 rows × 22 columns</p>\n",
              "</div>\n",
              "    <div class=\"colab-df-buttons\">\n",
              "\n",
              "  <div class=\"colab-df-container\">\n",
              "    <button class=\"colab-df-convert\" onclick=\"convertToInteractive('df-f8660d26-0daa-44e1-a618-51045c698c65')\"\n",
              "            title=\"Convert this dataframe to an interactive table.\"\n",
              "            style=\"display:none;\">\n",
              "\n",
              "  <svg xmlns=\"http://www.w3.org/2000/svg\" height=\"24px\" viewBox=\"0 -960 960 960\">\n",
              "    <path d=\"M120-120v-720h720v720H120Zm60-500h600v-160H180v160Zm220 220h160v-160H400v160Zm0 220h160v-160H400v160ZM180-400h160v-160H180v160Zm440 0h160v-160H620v160ZM180-180h160v-160H180v160Zm440 0h160v-160H620v160Z\"/>\n",
              "  </svg>\n",
              "    </button>\n",
              "\n",
              "  <style>\n",
              "    .colab-df-container {\n",
              "      display:flex;\n",
              "      gap: 12px;\n",
              "    }\n",
              "\n",
              "    .colab-df-convert {\n",
              "      background-color: #E8F0FE;\n",
              "      border: none;\n",
              "      border-radius: 50%;\n",
              "      cursor: pointer;\n",
              "      display: none;\n",
              "      fill: #1967D2;\n",
              "      height: 32px;\n",
              "      padding: 0 0 0 0;\n",
              "      width: 32px;\n",
              "    }\n",
              "\n",
              "    .colab-df-convert:hover {\n",
              "      background-color: #E2EBFA;\n",
              "      box-shadow: 0px 1px 2px rgba(60, 64, 67, 0.3), 0px 1px 3px 1px rgba(60, 64, 67, 0.15);\n",
              "      fill: #174EA6;\n",
              "    }\n",
              "\n",
              "    .colab-df-buttons div {\n",
              "      margin-bottom: 4px;\n",
              "    }\n",
              "\n",
              "    [theme=dark] .colab-df-convert {\n",
              "      background-color: #3B4455;\n",
              "      fill: #D2E3FC;\n",
              "    }\n",
              "\n",
              "    [theme=dark] .colab-df-convert:hover {\n",
              "      background-color: #434B5C;\n",
              "      box-shadow: 0px 1px 3px 1px rgba(0, 0, 0, 0.15);\n",
              "      filter: drop-shadow(0px 1px 2px rgba(0, 0, 0, 0.3));\n",
              "      fill: #FFFFFF;\n",
              "    }\n",
              "  </style>\n",
              "\n",
              "    <script>\n",
              "      const buttonEl =\n",
              "        document.querySelector('#df-f8660d26-0daa-44e1-a618-51045c698c65 button.colab-df-convert');\n",
              "      buttonEl.style.display =\n",
              "        google.colab.kernel.accessAllowed ? 'block' : 'none';\n",
              "\n",
              "      async function convertToInteractive(key) {\n",
              "        const element = document.querySelector('#df-f8660d26-0daa-44e1-a618-51045c698c65');\n",
              "        const dataTable =\n",
              "          await google.colab.kernel.invokeFunction('convertToInteractive',\n",
              "                                                    [key], {});\n",
              "        if (!dataTable) return;\n",
              "\n",
              "        const docLinkHtml = 'Like what you see? Visit the ' +\n",
              "          '<a target=\"_blank\" href=https://colab.research.google.com/notebooks/data_table.ipynb>data table notebook</a>'\n",
              "          + ' to learn more about interactive tables.';\n",
              "        element.innerHTML = '';\n",
              "        dataTable['output_type'] = 'display_data';\n",
              "        await google.colab.output.renderOutput(dataTable, element);\n",
              "        const docLink = document.createElement('div');\n",
              "        docLink.innerHTML = docLinkHtml;\n",
              "        element.appendChild(docLink);\n",
              "      }\n",
              "    </script>\n",
              "  </div>\n",
              "\n",
              "\n",
              "<div id=\"df-6cb584b5-8b6c-462a-b336-eed311937127\">\n",
              "  <button class=\"colab-df-quickchart\" onclick=\"quickchart('df-6cb584b5-8b6c-462a-b336-eed311937127')\"\n",
              "            title=\"Suggest charts\"\n",
              "            style=\"display:none;\">\n",
              "\n",
              "<svg xmlns=\"http://www.w3.org/2000/svg\" height=\"24px\"viewBox=\"0 0 24 24\"\n",
              "     width=\"24px\">\n",
              "    <g>\n",
              "        <path d=\"M19 3H5c-1.1 0-2 .9-2 2v14c0 1.1.9 2 2 2h14c1.1 0 2-.9 2-2V5c0-1.1-.9-2-2-2zM9 17H7v-7h2v7zm4 0h-2V7h2v10zm4 0h-2v-4h2v4z\"/>\n",
              "    </g>\n",
              "</svg>\n",
              "  </button>\n",
              "\n",
              "<style>\n",
              "  .colab-df-quickchart {\n",
              "      --bg-color: #E8F0FE;\n",
              "      --fill-color: #1967D2;\n",
              "      --hover-bg-color: #E2EBFA;\n",
              "      --hover-fill-color: #174EA6;\n",
              "      --disabled-fill-color: #AAA;\n",
              "      --disabled-bg-color: #DDD;\n",
              "  }\n",
              "\n",
              "  [theme=dark] .colab-df-quickchart {\n",
              "      --bg-color: #3B4455;\n",
              "      --fill-color: #D2E3FC;\n",
              "      --hover-bg-color: #434B5C;\n",
              "      --hover-fill-color: #FFFFFF;\n",
              "      --disabled-bg-color: #3B4455;\n",
              "      --disabled-fill-color: #666;\n",
              "  }\n",
              "\n",
              "  .colab-df-quickchart {\n",
              "    background-color: var(--bg-color);\n",
              "    border: none;\n",
              "    border-radius: 50%;\n",
              "    cursor: pointer;\n",
              "    display: none;\n",
              "    fill: var(--fill-color);\n",
              "    height: 32px;\n",
              "    padding: 0;\n",
              "    width: 32px;\n",
              "  }\n",
              "\n",
              "  .colab-df-quickchart:hover {\n",
              "    background-color: var(--hover-bg-color);\n",
              "    box-shadow: 0 1px 2px rgba(60, 64, 67, 0.3), 0 1px 3px 1px rgba(60, 64, 67, 0.15);\n",
              "    fill: var(--button-hover-fill-color);\n",
              "  }\n",
              "\n",
              "  .colab-df-quickchart-complete:disabled,\n",
              "  .colab-df-quickchart-complete:disabled:hover {\n",
              "    background-color: var(--disabled-bg-color);\n",
              "    fill: var(--disabled-fill-color);\n",
              "    box-shadow: none;\n",
              "  }\n",
              "\n",
              "  .colab-df-spinner {\n",
              "    border: 2px solid var(--fill-color);\n",
              "    border-color: transparent;\n",
              "    border-bottom-color: var(--fill-color);\n",
              "    animation:\n",
              "      spin 1s steps(1) infinite;\n",
              "  }\n",
              "\n",
              "  @keyframes spin {\n",
              "    0% {\n",
              "      border-color: transparent;\n",
              "      border-bottom-color: var(--fill-color);\n",
              "      border-left-color: var(--fill-color);\n",
              "    }\n",
              "    20% {\n",
              "      border-color: transparent;\n",
              "      border-left-color: var(--fill-color);\n",
              "      border-top-color: var(--fill-color);\n",
              "    }\n",
              "    30% {\n",
              "      border-color: transparent;\n",
              "      border-left-color: var(--fill-color);\n",
              "      border-top-color: var(--fill-color);\n",
              "      border-right-color: var(--fill-color);\n",
              "    }\n",
              "    40% {\n",
              "      border-color: transparent;\n",
              "      border-right-color: var(--fill-color);\n",
              "      border-top-color: var(--fill-color);\n",
              "    }\n",
              "    60% {\n",
              "      border-color: transparent;\n",
              "      border-right-color: var(--fill-color);\n",
              "    }\n",
              "    80% {\n",
              "      border-color: transparent;\n",
              "      border-right-color: var(--fill-color);\n",
              "      border-bottom-color: var(--fill-color);\n",
              "    }\n",
              "    90% {\n",
              "      border-color: transparent;\n",
              "      border-bottom-color: var(--fill-color);\n",
              "    }\n",
              "  }\n",
              "</style>\n",
              "\n",
              "  <script>\n",
              "    async function quickchart(key) {\n",
              "      const quickchartButtonEl =\n",
              "        document.querySelector('#' + key + ' button');\n",
              "      quickchartButtonEl.disabled = true;  // To prevent multiple clicks.\n",
              "      quickchartButtonEl.classList.add('colab-df-spinner');\n",
              "      try {\n",
              "        const charts = await google.colab.kernel.invokeFunction(\n",
              "            'suggestCharts', [key], {});\n",
              "      } catch (error) {\n",
              "        console.error('Error during call to suggestCharts:', error);\n",
              "      }\n",
              "      quickchartButtonEl.classList.remove('colab-df-spinner');\n",
              "      quickchartButtonEl.classList.add('colab-df-quickchart-complete');\n",
              "    }\n",
              "    (() => {\n",
              "      let quickchartButtonEl =\n",
              "        document.querySelector('#df-6cb584b5-8b6c-462a-b336-eed311937127 button');\n",
              "      quickchartButtonEl.style.display =\n",
              "        google.colab.kernel.accessAllowed ? 'block' : 'none';\n",
              "    })();\n",
              "  </script>\n",
              "</div>\n",
              "    </div>\n",
              "  </div>\n"
            ],
            "text/plain": [
              "    marketingAnalytics0 HRConsultingSeries marketingAnalyticsSeries  \\\n",
              "0                   NaN                NaN                      NaN   \n",
              "1                   NaN                NaN                      NaN   \n",
              "2                   NaN                NaN                      NaN   \n",
              "3                   NaN                NaN                      NaN   \n",
              "4                   NaN                NaN                      NaN   \n",
              "..                  ...                ...                      ...   \n",
              "100                 NaN                NaN                      NaN   \n",
              "101                 NaN                NaN                      NaN   \n",
              "102                 NaN                NaN                      NaN   \n",
              "103                 NaN                NaN                      NaN   \n",
              "104                 NaN                NaN                      NaN   \n",
              "\n",
              "    MarketingAnalyticsSeries series_legal IT_Solutions_Series  \\\n",
              "0                        NaN          NaN                 NaN   \n",
              "1                        NaN          NaN                 NaN   \n",
              "2                        NaN          NaN                 NaN   \n",
              "3                        NaN          NaN                 NaN   \n",
              "4                        NaN          NaN                 NaN   \n",
              "..                       ...          ...                 ...   \n",
              "100                      NaN          NaN                 NaN   \n",
              "101                      NaN          NaN                 NaN   \n",
              "102                      NaN          NaN                 NaN   \n",
              "103                      NaN          NaN                 NaN   \n",
              "104                      NaN          NaN                 NaN   \n",
              "\n",
              "    Marketing_Analytics_Series series_marketing_analytics series1  \\\n",
              "0                          NaN                        NaN     NaN   \n",
              "1                          NaN                        NaN     NaN   \n",
              "2                          NaN                        NaN     NaN   \n",
              "3                          NaN                        NaN     NaN   \n",
              "4                          NaN                        NaN     NaN   \n",
              "..                         ...                        ...     ...   \n",
              "100                        NaN                        NaN     NaN   \n",
              "101                        NaN                        NaN     NaN   \n",
              "102                        NaN                        NaN     NaN   \n",
              "103                        NaN                        NaN     NaN   \n",
              "104                        NaN                        NaN     NaN   \n",
              "\n",
              "    HR_Consulting_Series  ... Series1_HR_Consulting Series_IT_Solutions  \\\n",
              "0                    NaN  ...                   NaN                 NaN   \n",
              "1                    NaN  ...                   NaN                 NaN   \n",
              "2                    NaN  ...                   NaN                 NaN   \n",
              "3                    NaN  ...                   NaN                 NaN   \n",
              "4                    NaN  ...                   NaN                 NaN   \n",
              "..                   ...  ...                   ...                 ...   \n",
              "100                  NaN  ...                   NaN                 NaN   \n",
              "101                  NaN  ...                   NaN                 NaN   \n",
              "102                  NaN  ...                   NaN                 NaN   \n",
              "103                  NaN  ...                   NaN                 NaN   \n",
              "104                  NaN  ...                   NaN                 NaN   \n",
              "\n",
              "    email_series_marketing_analytics legal_services0  \\\n",
              "0                                NaN             NaN   \n",
              "1                                NaN             NaN   \n",
              "2                                NaN             NaN   \n",
              "3                                NaN             NaN   \n",
              "4                                NaN             NaN   \n",
              "..                               ...             ...   \n",
              "100                              NaN             NaN   \n",
              "101                              NaN             NaN   \n",
              "102                              NaN             NaN   \n",
              "103                              NaN             NaN   \n",
              "104                              NaN             NaN   \n",
              "\n",
              "                                               subject  \\\n",
              "0    🚀 Propel Your Marketing ROI with Advanced Anal...   \n",
              "1    Data is Your Superpower 📊 Unlock Insights with Us   \n",
              "2    Turn Marketing Data Into Decisions 🧐 Let's Exp...   \n",
              "3    Marketing Success is a Click Away - Let's Chat...   \n",
              "4    🚀 Boost Your Brand's Visibility with Proven Ma...   \n",
              "..                                                 ...   \n",
              "100                                                NaN   \n",
              "101                      Boost Your Brand Visibility 🚀   \n",
              "102    🔍 Outpace Competitors with Insightful Analytics   \n",
              "103                         Tailored Analytics for You   \n",
              "104          Let's Make Data-Driven Decisions Together   \n",
              "\n",
              "                                                  body opened  \\\n",
              "0    Hey [Recipient's Name],\\n\\nReady to see your m...  False   \n",
              "1    Hi [Recipient's Name],\\n\\nI'm reaching out aga...   True   \n",
              "2    Greetings [Recipient's Name],\\n\\nWe haven't co...  False   \n",
              "3    Hello [Recipient's Name],\\n\\nIt's clear that y...   True   \n",
              "4    Hi [Recipient's Name],\\n\\nIn the digital age, ...  False   \n",
              "..                                                 ...    ...   \n",
              "100                                                NaN    NaN   \n",
              "101  Hello [Recipient's Name],\\n\\nWant to skyrocket...   True   \n",
              "102  Hi [Recipient's Name],\\n\\nI noticed you're nav...   True   \n",
              "103  Hey [Recipient's Name],\\n\\nYour brand deserves...  False   \n",
              "104  Dear [Recipient's Name],\\n\\nI can't help but n...   True   \n",
              "\n",
              "    meeting link clicked responded meeting_link_clicked  \n",
              "0                  False     False                  NaN  \n",
              "1                  False     False                  NaN  \n",
              "2                  False     False                  NaN  \n",
              "3                   True     False                  NaN  \n",
              "4                  False     False                  NaN  \n",
              "..                   ...       ...                  ...  \n",
              "100                  NaN       NaN                  NaN  \n",
              "101                False     False                  NaN  \n",
              "102                False     False                  NaN  \n",
              "103                False     False                  NaN  \n",
              "104                 True     False                  NaN  \n",
              "\n",
              "[105 rows x 22 columns]"
            ]
          },
          "execution_count": 31,
          "metadata": {},
          "output_type": "execute_result"
        }
      ],
      "source": [
        "df_result"
      ]
    },
    {
      "cell_type": "code",
      "execution_count": 32,
      "metadata": {
        "id": "XD-e3pAJWmtv"
      },
      "outputs": [],
      "source": [
        "df=df_result"
      ]
    },
    {
      "cell_type": "code",
      "execution_count": 33,
      "metadata": {
        "colab": {
          "base_uri": "https://localhost:8080/",
          "height": 1000
        },
        "id": "qHgRIFbQWrNu",
        "outputId": "5ffb9d84-247c-48c9-abd3-fe703bfde022"
      },
      "outputs": [
        {
          "data": {
            "text/html": [
              "\n",
              "  <div id=\"df-fd58f277-cea1-4f29-9b65-bbeed324118f\" class=\"colab-df-container\">\n",
              "    <div>\n",
              "<style scoped>\n",
              "    .dataframe tbody tr th:only-of-type {\n",
              "        vertical-align: middle;\n",
              "    }\n",
              "\n",
              "    .dataframe tbody tr th {\n",
              "        vertical-align: top;\n",
              "    }\n",
              "\n",
              "    .dataframe thead th {\n",
              "        text-align: right;\n",
              "    }\n",
              "</style>\n",
              "<table border=\"1\" class=\"dataframe\">\n",
              "  <thead>\n",
              "    <tr style=\"text-align: right;\">\n",
              "      <th></th>\n",
              "      <th>marketingAnalytics0</th>\n",
              "      <th>HRConsultingSeries</th>\n",
              "      <th>marketingAnalyticsSeries</th>\n",
              "      <th>MarketingAnalyticsSeries</th>\n",
              "      <th>series_legal</th>\n",
              "      <th>IT_Solutions_Series</th>\n",
              "      <th>Marketing_Analytics_Series</th>\n",
              "      <th>series_marketing_analytics</th>\n",
              "      <th>series1</th>\n",
              "      <th>HR_Consulting_Series</th>\n",
              "      <th>...</th>\n",
              "      <th>Series1_HR_Consulting</th>\n",
              "      <th>Series_IT_Solutions</th>\n",
              "      <th>email_series_marketing_analytics</th>\n",
              "      <th>legal_services0</th>\n",
              "      <th>subject</th>\n",
              "      <th>body</th>\n",
              "      <th>opened</th>\n",
              "      <th>meeting link clicked</th>\n",
              "      <th>responded</th>\n",
              "      <th>meeting_link_clicked</th>\n",
              "    </tr>\n",
              "  </thead>\n",
              "  <tbody>\n",
              "    <tr>\n",
              "      <th>0</th>\n",
              "      <td>NaN</td>\n",
              "      <td>NaN</td>\n",
              "      <td>NaN</td>\n",
              "      <td>NaN</td>\n",
              "      <td>NaN</td>\n",
              "      <td>NaN</td>\n",
              "      <td>NaN</td>\n",
              "      <td>NaN</td>\n",
              "      <td>NaN</td>\n",
              "      <td>NaN</td>\n",
              "      <td>...</td>\n",
              "      <td>NaN</td>\n",
              "      <td>NaN</td>\n",
              "      <td>NaN</td>\n",
              "      <td>NaN</td>\n",
              "      <td>🚀 Propel Your Marketing ROI with Advanced Anal...</td>\n",
              "      <td>Hey [Recipient's Name],\\n\\nReady to see your m...</td>\n",
              "      <td>False</td>\n",
              "      <td>False</td>\n",
              "      <td>False</td>\n",
              "      <td>NaN</td>\n",
              "    </tr>\n",
              "    <tr>\n",
              "      <th>1</th>\n",
              "      <td>NaN</td>\n",
              "      <td>NaN</td>\n",
              "      <td>NaN</td>\n",
              "      <td>NaN</td>\n",
              "      <td>NaN</td>\n",
              "      <td>NaN</td>\n",
              "      <td>NaN</td>\n",
              "      <td>NaN</td>\n",
              "      <td>NaN</td>\n",
              "      <td>NaN</td>\n",
              "      <td>...</td>\n",
              "      <td>NaN</td>\n",
              "      <td>NaN</td>\n",
              "      <td>NaN</td>\n",
              "      <td>NaN</td>\n",
              "      <td>Data is Your Superpower 📊 Unlock Insights with Us</td>\n",
              "      <td>Hi [Recipient's Name],\\n\\nI'm reaching out aga...</td>\n",
              "      <td>True</td>\n",
              "      <td>False</td>\n",
              "      <td>False</td>\n",
              "      <td>NaN</td>\n",
              "    </tr>\n",
              "    <tr>\n",
              "      <th>2</th>\n",
              "      <td>NaN</td>\n",
              "      <td>NaN</td>\n",
              "      <td>NaN</td>\n",
              "      <td>NaN</td>\n",
              "      <td>NaN</td>\n",
              "      <td>NaN</td>\n",
              "      <td>NaN</td>\n",
              "      <td>NaN</td>\n",
              "      <td>NaN</td>\n",
              "      <td>NaN</td>\n",
              "      <td>...</td>\n",
              "      <td>NaN</td>\n",
              "      <td>NaN</td>\n",
              "      <td>NaN</td>\n",
              "      <td>NaN</td>\n",
              "      <td>Turn Marketing Data Into Decisions 🧐 Let's Exp...</td>\n",
              "      <td>Greetings [Recipient's Name],\\n\\nWe haven't co...</td>\n",
              "      <td>False</td>\n",
              "      <td>False</td>\n",
              "      <td>False</td>\n",
              "      <td>NaN</td>\n",
              "    </tr>\n",
              "    <tr>\n",
              "      <th>3</th>\n",
              "      <td>NaN</td>\n",
              "      <td>NaN</td>\n",
              "      <td>NaN</td>\n",
              "      <td>NaN</td>\n",
              "      <td>NaN</td>\n",
              "      <td>NaN</td>\n",
              "      <td>NaN</td>\n",
              "      <td>NaN</td>\n",
              "      <td>NaN</td>\n",
              "      <td>NaN</td>\n",
              "      <td>...</td>\n",
              "      <td>NaN</td>\n",
              "      <td>NaN</td>\n",
              "      <td>NaN</td>\n",
              "      <td>NaN</td>\n",
              "      <td>Marketing Success is a Click Away - Let's Chat...</td>\n",
              "      <td>Hello [Recipient's Name],\\n\\nIt's clear that y...</td>\n",
              "      <td>True</td>\n",
              "      <td>True</td>\n",
              "      <td>False</td>\n",
              "      <td>NaN</td>\n",
              "    </tr>\n",
              "    <tr>\n",
              "      <th>4</th>\n",
              "      <td>NaN</td>\n",
              "      <td>NaN</td>\n",
              "      <td>NaN</td>\n",
              "      <td>NaN</td>\n",
              "      <td>NaN</td>\n",
              "      <td>NaN</td>\n",
              "      <td>NaN</td>\n",
              "      <td>NaN</td>\n",
              "      <td>NaN</td>\n",
              "      <td>NaN</td>\n",
              "      <td>...</td>\n",
              "      <td>NaN</td>\n",
              "      <td>NaN</td>\n",
              "      <td>NaN</td>\n",
              "      <td>NaN</td>\n",
              "      <td>🚀 Boost Your Brand's Visibility with Proven Ma...</td>\n",
              "      <td>Hi [Recipient's Name],\\n\\nIn the digital age, ...</td>\n",
              "      <td>False</td>\n",
              "      <td>False</td>\n",
              "      <td>False</td>\n",
              "      <td>NaN</td>\n",
              "    </tr>\n",
              "    <tr>\n",
              "      <th>...</th>\n",
              "      <td>...</td>\n",
              "      <td>...</td>\n",
              "      <td>...</td>\n",
              "      <td>...</td>\n",
              "      <td>...</td>\n",
              "      <td>...</td>\n",
              "      <td>...</td>\n",
              "      <td>...</td>\n",
              "      <td>...</td>\n",
              "      <td>...</td>\n",
              "      <td>...</td>\n",
              "      <td>...</td>\n",
              "      <td>...</td>\n",
              "      <td>...</td>\n",
              "      <td>...</td>\n",
              "      <td>...</td>\n",
              "      <td>...</td>\n",
              "      <td>...</td>\n",
              "      <td>...</td>\n",
              "      <td>...</td>\n",
              "      <td>...</td>\n",
              "    </tr>\n",
              "    <tr>\n",
              "      <th>100</th>\n",
              "      <td>NaN</td>\n",
              "      <td>NaN</td>\n",
              "      <td>NaN</td>\n",
              "      <td>NaN</td>\n",
              "      <td>NaN</td>\n",
              "      <td>NaN</td>\n",
              "      <td>NaN</td>\n",
              "      <td>NaN</td>\n",
              "      <td>NaN</td>\n",
              "      <td>NaN</td>\n",
              "      <td>...</td>\n",
              "      <td>NaN</td>\n",
              "      <td>NaN</td>\n",
              "      <td>NaN</td>\n",
              "      <td>NaN</td>\n",
              "      <td>NaN</td>\n",
              "      <td>NaN</td>\n",
              "      <td>NaN</td>\n",
              "      <td>NaN</td>\n",
              "      <td>NaN</td>\n",
              "      <td>NaN</td>\n",
              "    </tr>\n",
              "    <tr>\n",
              "      <th>101</th>\n",
              "      <td>NaN</td>\n",
              "      <td>NaN</td>\n",
              "      <td>NaN</td>\n",
              "      <td>NaN</td>\n",
              "      <td>NaN</td>\n",
              "      <td>NaN</td>\n",
              "      <td>NaN</td>\n",
              "      <td>NaN</td>\n",
              "      <td>NaN</td>\n",
              "      <td>NaN</td>\n",
              "      <td>...</td>\n",
              "      <td>NaN</td>\n",
              "      <td>NaN</td>\n",
              "      <td>NaN</td>\n",
              "      <td>NaN</td>\n",
              "      <td>Boost Your Brand Visibility 🚀</td>\n",
              "      <td>Hello [Recipient's Name],\\n\\nWant to skyrocket...</td>\n",
              "      <td>True</td>\n",
              "      <td>False</td>\n",
              "      <td>False</td>\n",
              "      <td>NaN</td>\n",
              "    </tr>\n",
              "    <tr>\n",
              "      <th>102</th>\n",
              "      <td>NaN</td>\n",
              "      <td>NaN</td>\n",
              "      <td>NaN</td>\n",
              "      <td>NaN</td>\n",
              "      <td>NaN</td>\n",
              "      <td>NaN</td>\n",
              "      <td>NaN</td>\n",
              "      <td>NaN</td>\n",
              "      <td>NaN</td>\n",
              "      <td>NaN</td>\n",
              "      <td>...</td>\n",
              "      <td>NaN</td>\n",
              "      <td>NaN</td>\n",
              "      <td>NaN</td>\n",
              "      <td>NaN</td>\n",
              "      <td>🔍 Outpace Competitors with Insightful Analytics</td>\n",
              "      <td>Hi [Recipient's Name],\\n\\nI noticed you're nav...</td>\n",
              "      <td>True</td>\n",
              "      <td>False</td>\n",
              "      <td>False</td>\n",
              "      <td>NaN</td>\n",
              "    </tr>\n",
              "    <tr>\n",
              "      <th>103</th>\n",
              "      <td>NaN</td>\n",
              "      <td>NaN</td>\n",
              "      <td>NaN</td>\n",
              "      <td>NaN</td>\n",
              "      <td>NaN</td>\n",
              "      <td>NaN</td>\n",
              "      <td>NaN</td>\n",
              "      <td>NaN</td>\n",
              "      <td>NaN</td>\n",
              "      <td>NaN</td>\n",
              "      <td>...</td>\n",
              "      <td>NaN</td>\n",
              "      <td>NaN</td>\n",
              "      <td>NaN</td>\n",
              "      <td>NaN</td>\n",
              "      <td>Tailored Analytics for You</td>\n",
              "      <td>Hey [Recipient's Name],\\n\\nYour brand deserves...</td>\n",
              "      <td>False</td>\n",
              "      <td>False</td>\n",
              "      <td>False</td>\n",
              "      <td>NaN</td>\n",
              "    </tr>\n",
              "    <tr>\n",
              "      <th>104</th>\n",
              "      <td>NaN</td>\n",
              "      <td>NaN</td>\n",
              "      <td>NaN</td>\n",
              "      <td>NaN</td>\n",
              "      <td>NaN</td>\n",
              "      <td>NaN</td>\n",
              "      <td>NaN</td>\n",
              "      <td>NaN</td>\n",
              "      <td>NaN</td>\n",
              "      <td>NaN</td>\n",
              "      <td>...</td>\n",
              "      <td>NaN</td>\n",
              "      <td>NaN</td>\n",
              "      <td>NaN</td>\n",
              "      <td>NaN</td>\n",
              "      <td>Let's Make Data-Driven Decisions Together</td>\n",
              "      <td>Dear [Recipient's Name],\\n\\nI can't help but n...</td>\n",
              "      <td>True</td>\n",
              "      <td>True</td>\n",
              "      <td>False</td>\n",
              "      <td>NaN</td>\n",
              "    </tr>\n",
              "  </tbody>\n",
              "</table>\n",
              "<p>105 rows × 22 columns</p>\n",
              "</div>\n",
              "    <div class=\"colab-df-buttons\">\n",
              "\n",
              "  <div class=\"colab-df-container\">\n",
              "    <button class=\"colab-df-convert\" onclick=\"convertToInteractive('df-fd58f277-cea1-4f29-9b65-bbeed324118f')\"\n",
              "            title=\"Convert this dataframe to an interactive table.\"\n",
              "            style=\"display:none;\">\n",
              "\n",
              "  <svg xmlns=\"http://www.w3.org/2000/svg\" height=\"24px\" viewBox=\"0 -960 960 960\">\n",
              "    <path d=\"M120-120v-720h720v720H120Zm60-500h600v-160H180v160Zm220 220h160v-160H400v160Zm0 220h160v-160H400v160ZM180-400h160v-160H180v160Zm440 0h160v-160H620v160ZM180-180h160v-160H180v160Zm440 0h160v-160H620v160Z\"/>\n",
              "  </svg>\n",
              "    </button>\n",
              "\n",
              "  <style>\n",
              "    .colab-df-container {\n",
              "      display:flex;\n",
              "      gap: 12px;\n",
              "    }\n",
              "\n",
              "    .colab-df-convert {\n",
              "      background-color: #E8F0FE;\n",
              "      border: none;\n",
              "      border-radius: 50%;\n",
              "      cursor: pointer;\n",
              "      display: none;\n",
              "      fill: #1967D2;\n",
              "      height: 32px;\n",
              "      padding: 0 0 0 0;\n",
              "      width: 32px;\n",
              "    }\n",
              "\n",
              "    .colab-df-convert:hover {\n",
              "      background-color: #E2EBFA;\n",
              "      box-shadow: 0px 1px 2px rgba(60, 64, 67, 0.3), 0px 1px 3px 1px rgba(60, 64, 67, 0.15);\n",
              "      fill: #174EA6;\n",
              "    }\n",
              "\n",
              "    .colab-df-buttons div {\n",
              "      margin-bottom: 4px;\n",
              "    }\n",
              "\n",
              "    [theme=dark] .colab-df-convert {\n",
              "      background-color: #3B4455;\n",
              "      fill: #D2E3FC;\n",
              "    }\n",
              "\n",
              "    [theme=dark] .colab-df-convert:hover {\n",
              "      background-color: #434B5C;\n",
              "      box-shadow: 0px 1px 3px 1px rgba(0, 0, 0, 0.15);\n",
              "      filter: drop-shadow(0px 1px 2px rgba(0, 0, 0, 0.3));\n",
              "      fill: #FFFFFF;\n",
              "    }\n",
              "  </style>\n",
              "\n",
              "    <script>\n",
              "      const buttonEl =\n",
              "        document.querySelector('#df-fd58f277-cea1-4f29-9b65-bbeed324118f button.colab-df-convert');\n",
              "      buttonEl.style.display =\n",
              "        google.colab.kernel.accessAllowed ? 'block' : 'none';\n",
              "\n",
              "      async function convertToInteractive(key) {\n",
              "        const element = document.querySelector('#df-fd58f277-cea1-4f29-9b65-bbeed324118f');\n",
              "        const dataTable =\n",
              "          await google.colab.kernel.invokeFunction('convertToInteractive',\n",
              "                                                    [key], {});\n",
              "        if (!dataTable) return;\n",
              "\n",
              "        const docLinkHtml = 'Like what you see? Visit the ' +\n",
              "          '<a target=\"_blank\" href=https://colab.research.google.com/notebooks/data_table.ipynb>data table notebook</a>'\n",
              "          + ' to learn more about interactive tables.';\n",
              "        element.innerHTML = '';\n",
              "        dataTable['output_type'] = 'display_data';\n",
              "        await google.colab.output.renderOutput(dataTable, element);\n",
              "        const docLink = document.createElement('div');\n",
              "        docLink.innerHTML = docLinkHtml;\n",
              "        element.appendChild(docLink);\n",
              "      }\n",
              "    </script>\n",
              "  </div>\n",
              "\n",
              "\n",
              "<div id=\"df-154d1a99-7d31-4efd-ad2d-ae8f666e5f75\">\n",
              "  <button class=\"colab-df-quickchart\" onclick=\"quickchart('df-154d1a99-7d31-4efd-ad2d-ae8f666e5f75')\"\n",
              "            title=\"Suggest charts\"\n",
              "            style=\"display:none;\">\n",
              "\n",
              "<svg xmlns=\"http://www.w3.org/2000/svg\" height=\"24px\"viewBox=\"0 0 24 24\"\n",
              "     width=\"24px\">\n",
              "    <g>\n",
              "        <path d=\"M19 3H5c-1.1 0-2 .9-2 2v14c0 1.1.9 2 2 2h14c1.1 0 2-.9 2-2V5c0-1.1-.9-2-2-2zM9 17H7v-7h2v7zm4 0h-2V7h2v10zm4 0h-2v-4h2v4z\"/>\n",
              "    </g>\n",
              "</svg>\n",
              "  </button>\n",
              "\n",
              "<style>\n",
              "  .colab-df-quickchart {\n",
              "      --bg-color: #E8F0FE;\n",
              "      --fill-color: #1967D2;\n",
              "      --hover-bg-color: #E2EBFA;\n",
              "      --hover-fill-color: #174EA6;\n",
              "      --disabled-fill-color: #AAA;\n",
              "      --disabled-bg-color: #DDD;\n",
              "  }\n",
              "\n",
              "  [theme=dark] .colab-df-quickchart {\n",
              "      --bg-color: #3B4455;\n",
              "      --fill-color: #D2E3FC;\n",
              "      --hover-bg-color: #434B5C;\n",
              "      --hover-fill-color: #FFFFFF;\n",
              "      --disabled-bg-color: #3B4455;\n",
              "      --disabled-fill-color: #666;\n",
              "  }\n",
              "\n",
              "  .colab-df-quickchart {\n",
              "    background-color: var(--bg-color);\n",
              "    border: none;\n",
              "    border-radius: 50%;\n",
              "    cursor: pointer;\n",
              "    display: none;\n",
              "    fill: var(--fill-color);\n",
              "    height: 32px;\n",
              "    padding: 0;\n",
              "    width: 32px;\n",
              "  }\n",
              "\n",
              "  .colab-df-quickchart:hover {\n",
              "    background-color: var(--hover-bg-color);\n",
              "    box-shadow: 0 1px 2px rgba(60, 64, 67, 0.3), 0 1px 3px 1px rgba(60, 64, 67, 0.15);\n",
              "    fill: var(--button-hover-fill-color);\n",
              "  }\n",
              "\n",
              "  .colab-df-quickchart-complete:disabled,\n",
              "  .colab-df-quickchart-complete:disabled:hover {\n",
              "    background-color: var(--disabled-bg-color);\n",
              "    fill: var(--disabled-fill-color);\n",
              "    box-shadow: none;\n",
              "  }\n",
              "\n",
              "  .colab-df-spinner {\n",
              "    border: 2px solid var(--fill-color);\n",
              "    border-color: transparent;\n",
              "    border-bottom-color: var(--fill-color);\n",
              "    animation:\n",
              "      spin 1s steps(1) infinite;\n",
              "  }\n",
              "\n",
              "  @keyframes spin {\n",
              "    0% {\n",
              "      border-color: transparent;\n",
              "      border-bottom-color: var(--fill-color);\n",
              "      border-left-color: var(--fill-color);\n",
              "    }\n",
              "    20% {\n",
              "      border-color: transparent;\n",
              "      border-left-color: var(--fill-color);\n",
              "      border-top-color: var(--fill-color);\n",
              "    }\n",
              "    30% {\n",
              "      border-color: transparent;\n",
              "      border-left-color: var(--fill-color);\n",
              "      border-top-color: var(--fill-color);\n",
              "      border-right-color: var(--fill-color);\n",
              "    }\n",
              "    40% {\n",
              "      border-color: transparent;\n",
              "      border-right-color: var(--fill-color);\n",
              "      border-top-color: var(--fill-color);\n",
              "    }\n",
              "    60% {\n",
              "      border-color: transparent;\n",
              "      border-right-color: var(--fill-color);\n",
              "    }\n",
              "    80% {\n",
              "      border-color: transparent;\n",
              "      border-right-color: var(--fill-color);\n",
              "      border-bottom-color: var(--fill-color);\n",
              "    }\n",
              "    90% {\n",
              "      border-color: transparent;\n",
              "      border-bottom-color: var(--fill-color);\n",
              "    }\n",
              "  }\n",
              "</style>\n",
              "\n",
              "  <script>\n",
              "    async function quickchart(key) {\n",
              "      const quickchartButtonEl =\n",
              "        document.querySelector('#' + key + ' button');\n",
              "      quickchartButtonEl.disabled = true;  // To prevent multiple clicks.\n",
              "      quickchartButtonEl.classList.add('colab-df-spinner');\n",
              "      try {\n",
              "        const charts = await google.colab.kernel.invokeFunction(\n",
              "            'suggestCharts', [key], {});\n",
              "      } catch (error) {\n",
              "        console.error('Error during call to suggestCharts:', error);\n",
              "      }\n",
              "      quickchartButtonEl.classList.remove('colab-df-spinner');\n",
              "      quickchartButtonEl.classList.add('colab-df-quickchart-complete');\n",
              "    }\n",
              "    (() => {\n",
              "      let quickchartButtonEl =\n",
              "        document.querySelector('#df-154d1a99-7d31-4efd-ad2d-ae8f666e5f75 button');\n",
              "      quickchartButtonEl.style.display =\n",
              "        google.colab.kernel.accessAllowed ? 'block' : 'none';\n",
              "    })();\n",
              "  </script>\n",
              "</div>\n",
              "    </div>\n",
              "  </div>\n"
            ],
            "text/plain": [
              "    marketingAnalytics0 HRConsultingSeries marketingAnalyticsSeries  \\\n",
              "0                   NaN                NaN                      NaN   \n",
              "1                   NaN                NaN                      NaN   \n",
              "2                   NaN                NaN                      NaN   \n",
              "3                   NaN                NaN                      NaN   \n",
              "4                   NaN                NaN                      NaN   \n",
              "..                  ...                ...                      ...   \n",
              "100                 NaN                NaN                      NaN   \n",
              "101                 NaN                NaN                      NaN   \n",
              "102                 NaN                NaN                      NaN   \n",
              "103                 NaN                NaN                      NaN   \n",
              "104                 NaN                NaN                      NaN   \n",
              "\n",
              "    MarketingAnalyticsSeries series_legal IT_Solutions_Series  \\\n",
              "0                        NaN          NaN                 NaN   \n",
              "1                        NaN          NaN                 NaN   \n",
              "2                        NaN          NaN                 NaN   \n",
              "3                        NaN          NaN                 NaN   \n",
              "4                        NaN          NaN                 NaN   \n",
              "..                       ...          ...                 ...   \n",
              "100                      NaN          NaN                 NaN   \n",
              "101                      NaN          NaN                 NaN   \n",
              "102                      NaN          NaN                 NaN   \n",
              "103                      NaN          NaN                 NaN   \n",
              "104                      NaN          NaN                 NaN   \n",
              "\n",
              "    Marketing_Analytics_Series series_marketing_analytics series1  \\\n",
              "0                          NaN                        NaN     NaN   \n",
              "1                          NaN                        NaN     NaN   \n",
              "2                          NaN                        NaN     NaN   \n",
              "3                          NaN                        NaN     NaN   \n",
              "4                          NaN                        NaN     NaN   \n",
              "..                         ...                        ...     ...   \n",
              "100                        NaN                        NaN     NaN   \n",
              "101                        NaN                        NaN     NaN   \n",
              "102                        NaN                        NaN     NaN   \n",
              "103                        NaN                        NaN     NaN   \n",
              "104                        NaN                        NaN     NaN   \n",
              "\n",
              "    HR_Consulting_Series  ... Series1_HR_Consulting Series_IT_Solutions  \\\n",
              "0                    NaN  ...                   NaN                 NaN   \n",
              "1                    NaN  ...                   NaN                 NaN   \n",
              "2                    NaN  ...                   NaN                 NaN   \n",
              "3                    NaN  ...                   NaN                 NaN   \n",
              "4                    NaN  ...                   NaN                 NaN   \n",
              "..                   ...  ...                   ...                 ...   \n",
              "100                  NaN  ...                   NaN                 NaN   \n",
              "101                  NaN  ...                   NaN                 NaN   \n",
              "102                  NaN  ...                   NaN                 NaN   \n",
              "103                  NaN  ...                   NaN                 NaN   \n",
              "104                  NaN  ...                   NaN                 NaN   \n",
              "\n",
              "    email_series_marketing_analytics legal_services0  \\\n",
              "0                                NaN             NaN   \n",
              "1                                NaN             NaN   \n",
              "2                                NaN             NaN   \n",
              "3                                NaN             NaN   \n",
              "4                                NaN             NaN   \n",
              "..                               ...             ...   \n",
              "100                              NaN             NaN   \n",
              "101                              NaN             NaN   \n",
              "102                              NaN             NaN   \n",
              "103                              NaN             NaN   \n",
              "104                              NaN             NaN   \n",
              "\n",
              "                                               subject  \\\n",
              "0    🚀 Propel Your Marketing ROI with Advanced Anal...   \n",
              "1    Data is Your Superpower 📊 Unlock Insights with Us   \n",
              "2    Turn Marketing Data Into Decisions 🧐 Let's Exp...   \n",
              "3    Marketing Success is a Click Away - Let's Chat...   \n",
              "4    🚀 Boost Your Brand's Visibility with Proven Ma...   \n",
              "..                                                 ...   \n",
              "100                                                NaN   \n",
              "101                      Boost Your Brand Visibility 🚀   \n",
              "102    🔍 Outpace Competitors with Insightful Analytics   \n",
              "103                         Tailored Analytics for You   \n",
              "104          Let's Make Data-Driven Decisions Together   \n",
              "\n",
              "                                                  body opened  \\\n",
              "0    Hey [Recipient's Name],\\n\\nReady to see your m...  False   \n",
              "1    Hi [Recipient's Name],\\n\\nI'm reaching out aga...   True   \n",
              "2    Greetings [Recipient's Name],\\n\\nWe haven't co...  False   \n",
              "3    Hello [Recipient's Name],\\n\\nIt's clear that y...   True   \n",
              "4    Hi [Recipient's Name],\\n\\nIn the digital age, ...  False   \n",
              "..                                                 ...    ...   \n",
              "100                                                NaN    NaN   \n",
              "101  Hello [Recipient's Name],\\n\\nWant to skyrocket...   True   \n",
              "102  Hi [Recipient's Name],\\n\\nI noticed you're nav...   True   \n",
              "103  Hey [Recipient's Name],\\n\\nYour brand deserves...  False   \n",
              "104  Dear [Recipient's Name],\\n\\nI can't help but n...   True   \n",
              "\n",
              "    meeting link clicked responded meeting_link_clicked  \n",
              "0                  False     False                  NaN  \n",
              "1                  False     False                  NaN  \n",
              "2                  False     False                  NaN  \n",
              "3                   True     False                  NaN  \n",
              "4                  False     False                  NaN  \n",
              "..                   ...       ...                  ...  \n",
              "100                  NaN       NaN                  NaN  \n",
              "101                False     False                  NaN  \n",
              "102                False     False                  NaN  \n",
              "103                False     False                  NaN  \n",
              "104                 True     False                  NaN  \n",
              "\n",
              "[105 rows x 22 columns]"
            ]
          },
          "execution_count": 33,
          "metadata": {},
          "output_type": "execute_result"
        }
      ],
      "source": [
        "df"
      ]
    },
    {
      "cell_type": "code",
      "execution_count": 34,
      "metadata": {
        "colab": {
          "base_uri": "https://localhost:8080/"
        },
        "id": "XHBjkAULXPgu",
        "outputId": "917364e9-4a14-4f8b-ed9d-7e880dd156b2"
      },
      "outputs": [
        {
          "data": {
            "text/plain": [
              "Index(['marketingAnalytics0', 'HRConsultingSeries', 'marketingAnalyticsSeries',\n",
              "       'MarketingAnalyticsSeries', 'series_legal', 'IT_Solutions_Series',\n",
              "       'Marketing_Analytics_Series', 'series_marketing_analytics', 'series1',\n",
              "       'HR_Consulting_Series', 'financial_advisory_series',\n",
              "       'series_IT_Solutions', 'Series1_HR_Consulting', 'Series_IT_Solutions',\n",
              "       'email_series_marketing_analytics', 'legal_services0', 'subject',\n",
              "       'body', 'opened', 'meeting link clicked', 'responded',\n",
              "       'meeting_link_clicked'],\n",
              "      dtype='object')"
            ]
          },
          "execution_count": 34,
          "metadata": {},
          "output_type": "execute_result"
        }
      ],
      "source": [
        "df.columns"
      ]
    },
    {
      "cell_type": "code",
      "execution_count": 41,
      "metadata": {
        "colab": {
          "base_uri": "https://localhost:8080/"
        },
        "id": "Rh0r8gZHXW_X",
        "outputId": "a8b04a7e-e9a6-4528-a08e-9837dfaf4af1"
      },
      "outputs": [
        {
          "data": {
            "text/plain": [
              "True     104\n",
              "False      1\n",
              "Name: marketingAnalytics0, dtype: int64"
            ]
          },
          "execution_count": 41,
          "metadata": {},
          "output_type": "execute_result"
        }
      ],
      "source": [
        "df['marketingAnalytics0'].isnull().value_counts()"
      ]
    },
    {
      "cell_type": "code",
      "execution_count": 38,
      "metadata": {
        "colab": {
          "base_uri": "https://localhost:8080/"
        },
        "id": "AP09BjIsXe9j",
        "outputId": "42c7d44c-cfc7-4de0-b7ce-6c5e8825c41d"
      },
      "outputs": [
        {
          "data": {
            "text/plain": [
              "True     103\n",
              "False      2\n",
              "Name: HRConsultingSeries, dtype: int64"
            ]
          },
          "execution_count": 38,
          "metadata": {},
          "output_type": "execute_result"
        }
      ],
      "source": [
        "df['HRConsultingSeries'].isnull().value_counts()"
      ]
    },
    {
      "cell_type": "code",
      "execution_count": 45,
      "metadata": {
        "colab": {
          "base_uri": "https://localhost:8080/"
        },
        "id": "Z5QABkDKXoVJ",
        "outputId": "c3463a5a-83c1-42f3-caa1-643b9221b90f"
      },
      "outputs": [
        {
          "data": {
            "text/plain": [
              "True     104\n",
              "False      1\n",
              "Name: legal_services0, dtype: int64"
            ]
          },
          "execution_count": 45,
          "metadata": {},
          "output_type": "execute_result"
        }
      ],
      "source": [
        "df['legal_services0'].isnull().value_counts()"
      ]
    },
    {
      "cell_type": "code",
      "execution_count": 46,
      "metadata": {
        "colab": {
          "base_uri": "https://localhost:8080/"
        },
        "id": "HYFNS0eQXxDL",
        "outputId": "22cd517c-9a27-4413-d144-b8d56e0d8af8"
      },
      "outputs": [
        {
          "data": {
            "text/plain": [
              "False    81\n",
              "True     24\n",
              "Name: subject, dtype: int64"
            ]
          },
          "execution_count": 46,
          "metadata": {},
          "output_type": "execute_result"
        }
      ],
      "source": [
        "df['subject'].isnull().value_counts()"
      ]
    },
    {
      "cell_type": "code",
      "execution_count": 51,
      "metadata": {
        "colab": {
          "base_uri": "https://localhost:8080/"
        },
        "id": "1AG8ZcSaYP_p",
        "outputId": "65a6e4f5-efc6-4ea8-9a71-40be204f168b"
      },
      "outputs": [
        {
          "data": {
            "text/plain": [
              "True     99\n",
              "False     6\n",
              "Name: meeting_link_clicked, dtype: int64"
            ]
          },
          "execution_count": 51,
          "metadata": {},
          "output_type": "execute_result"
        }
      ],
      "source": [
        "df['meeting_link_clicked'].isnull().value_counts()"
      ]
    },
    {
      "cell_type": "markdown",
      "metadata": {
        "id": "Jc2kPdLdYsfG"
      },
      "source": [
        "# Data Preprocessing"
      ]
    },
    {
      "cell_type": "markdown",
      "metadata": {
        "id": "CRslBJBIY0X-"
      },
      "source": [
        "## Since the columns:\n",
        "       'MarketingAnalyticsSeries', 'series_legal', 'IT_Solutions_Series',\n",
        "       'Marketing_Analytics_Series', 'series_marketing_analytics', 'series1',\n",
        "       'HR_Consulting_Series', 'financial_advisory_series',\n",
        "       'series_IT_Solutions', 'Series1_HR_Consulting', 'Series_IT_Solutions',\n",
        "       'email_series_marketing_analytics', 'legal_services0'\n",
        "##     Are mostly null values (approximately over 100/105 rows) we are going to drop all these columns  "
      ]
    },
    {
      "cell_type": "code",
      "execution_count": 52,
      "metadata": {
        "id": "nKdztp9mYYe7"
      },
      "outputs": [],
      "source": [
        "drop_columns=['marketingAnalytics0', 'HRConsultingSeries', 'marketingAnalyticsSeries',\n",
        "       'MarketingAnalyticsSeries', 'series_legal', 'IT_Solutions_Series',\n",
        "       'Marketing_Analytics_Series', 'series_marketing_analytics', 'series1',\n",
        "       'HR_Consulting_Series', 'financial_advisory_series',\n",
        "       'series_IT_Solutions', 'Series1_HR_Consulting', 'Series_IT_Solutions',\n",
        "       'email_series_marketing_analytics', 'legal_services0']"
      ]
    },
    {
      "cell_type": "code",
      "execution_count": 53,
      "metadata": {
        "id": "EIc0uGjRZhPv"
      },
      "outputs": [],
      "source": [
        "df.drop(columns=drop_columns,inplace=True)"
      ]
    },
    {
      "cell_type": "code",
      "execution_count": 54,
      "metadata": {
        "colab": {
          "base_uri": "https://localhost:8080/",
          "height": 597
        },
        "id": "KLm14MpYZlWu",
        "outputId": "e3dbddf0-2a27-48a5-9d61-04cc10215abb"
      },
      "outputs": [
        {
          "data": {
            "text/html": [
              "\n",
              "  <div id=\"df-0c4171bd-f0c8-4cc9-a9bc-5c42e23379ff\" class=\"colab-df-container\">\n",
              "    <div>\n",
              "<style scoped>\n",
              "    .dataframe tbody tr th:only-of-type {\n",
              "        vertical-align: middle;\n",
              "    }\n",
              "\n",
              "    .dataframe tbody tr th {\n",
              "        vertical-align: top;\n",
              "    }\n",
              "\n",
              "    .dataframe thead th {\n",
              "        text-align: right;\n",
              "    }\n",
              "</style>\n",
              "<table border=\"1\" class=\"dataframe\">\n",
              "  <thead>\n",
              "    <tr style=\"text-align: right;\">\n",
              "      <th></th>\n",
              "      <th>subject</th>\n",
              "      <th>body</th>\n",
              "      <th>opened</th>\n",
              "      <th>meeting link clicked</th>\n",
              "      <th>responded</th>\n",
              "      <th>meeting_link_clicked</th>\n",
              "    </tr>\n",
              "  </thead>\n",
              "  <tbody>\n",
              "    <tr>\n",
              "      <th>0</th>\n",
              "      <td>🚀 Propel Your Marketing ROI with Advanced Anal...</td>\n",
              "      <td>Hey [Recipient's Name],\\n\\nReady to see your m...</td>\n",
              "      <td>False</td>\n",
              "      <td>False</td>\n",
              "      <td>False</td>\n",
              "      <td>NaN</td>\n",
              "    </tr>\n",
              "    <tr>\n",
              "      <th>1</th>\n",
              "      <td>Data is Your Superpower 📊 Unlock Insights with Us</td>\n",
              "      <td>Hi [Recipient's Name],\\n\\nI'm reaching out aga...</td>\n",
              "      <td>True</td>\n",
              "      <td>False</td>\n",
              "      <td>False</td>\n",
              "      <td>NaN</td>\n",
              "    </tr>\n",
              "    <tr>\n",
              "      <th>2</th>\n",
              "      <td>Turn Marketing Data Into Decisions 🧐 Let's Exp...</td>\n",
              "      <td>Greetings [Recipient's Name],\\n\\nWe haven't co...</td>\n",
              "      <td>False</td>\n",
              "      <td>False</td>\n",
              "      <td>False</td>\n",
              "      <td>NaN</td>\n",
              "    </tr>\n",
              "    <tr>\n",
              "      <th>3</th>\n",
              "      <td>Marketing Success is a Click Away - Let's Chat...</td>\n",
              "      <td>Hello [Recipient's Name],\\n\\nIt's clear that y...</td>\n",
              "      <td>True</td>\n",
              "      <td>True</td>\n",
              "      <td>False</td>\n",
              "      <td>NaN</td>\n",
              "    </tr>\n",
              "    <tr>\n",
              "      <th>4</th>\n",
              "      <td>🚀 Boost Your Brand's Visibility with Proven Ma...</td>\n",
              "      <td>Hi [Recipient's Name],\\n\\nIn the digital age, ...</td>\n",
              "      <td>False</td>\n",
              "      <td>False</td>\n",
              "      <td>False</td>\n",
              "      <td>NaN</td>\n",
              "    </tr>\n",
              "    <tr>\n",
              "      <th>...</th>\n",
              "      <td>...</td>\n",
              "      <td>...</td>\n",
              "      <td>...</td>\n",
              "      <td>...</td>\n",
              "      <td>...</td>\n",
              "      <td>...</td>\n",
              "    </tr>\n",
              "    <tr>\n",
              "      <th>100</th>\n",
              "      <td>NaN</td>\n",
              "      <td>NaN</td>\n",
              "      <td>NaN</td>\n",
              "      <td>NaN</td>\n",
              "      <td>NaN</td>\n",
              "      <td>NaN</td>\n",
              "    </tr>\n",
              "    <tr>\n",
              "      <th>101</th>\n",
              "      <td>Boost Your Brand Visibility 🚀</td>\n",
              "      <td>Hello [Recipient's Name],\\n\\nWant to skyrocket...</td>\n",
              "      <td>True</td>\n",
              "      <td>False</td>\n",
              "      <td>False</td>\n",
              "      <td>NaN</td>\n",
              "    </tr>\n",
              "    <tr>\n",
              "      <th>102</th>\n",
              "      <td>🔍 Outpace Competitors with Insightful Analytics</td>\n",
              "      <td>Hi [Recipient's Name],\\n\\nI noticed you're nav...</td>\n",
              "      <td>True</td>\n",
              "      <td>False</td>\n",
              "      <td>False</td>\n",
              "      <td>NaN</td>\n",
              "    </tr>\n",
              "    <tr>\n",
              "      <th>103</th>\n",
              "      <td>Tailored Analytics for You</td>\n",
              "      <td>Hey [Recipient's Name],\\n\\nYour brand deserves...</td>\n",
              "      <td>False</td>\n",
              "      <td>False</td>\n",
              "      <td>False</td>\n",
              "      <td>NaN</td>\n",
              "    </tr>\n",
              "    <tr>\n",
              "      <th>104</th>\n",
              "      <td>Let's Make Data-Driven Decisions Together</td>\n",
              "      <td>Dear [Recipient's Name],\\n\\nI can't help but n...</td>\n",
              "      <td>True</td>\n",
              "      <td>True</td>\n",
              "      <td>False</td>\n",
              "      <td>NaN</td>\n",
              "    </tr>\n",
              "  </tbody>\n",
              "</table>\n",
              "<p>105 rows × 6 columns</p>\n",
              "</div>\n",
              "    <div class=\"colab-df-buttons\">\n",
              "\n",
              "  <div class=\"colab-df-container\">\n",
              "    <button class=\"colab-df-convert\" onclick=\"convertToInteractive('df-0c4171bd-f0c8-4cc9-a9bc-5c42e23379ff')\"\n",
              "            title=\"Convert this dataframe to an interactive table.\"\n",
              "            style=\"display:none;\">\n",
              "\n",
              "  <svg xmlns=\"http://www.w3.org/2000/svg\" height=\"24px\" viewBox=\"0 -960 960 960\">\n",
              "    <path d=\"M120-120v-720h720v720H120Zm60-500h600v-160H180v160Zm220 220h160v-160H400v160Zm0 220h160v-160H400v160ZM180-400h160v-160H180v160Zm440 0h160v-160H620v160ZM180-180h160v-160H180v160Zm440 0h160v-160H620v160Z\"/>\n",
              "  </svg>\n",
              "    </button>\n",
              "\n",
              "  <style>\n",
              "    .colab-df-container {\n",
              "      display:flex;\n",
              "      gap: 12px;\n",
              "    }\n",
              "\n",
              "    .colab-df-convert {\n",
              "      background-color: #E8F0FE;\n",
              "      border: none;\n",
              "      border-radius: 50%;\n",
              "      cursor: pointer;\n",
              "      display: none;\n",
              "      fill: #1967D2;\n",
              "      height: 32px;\n",
              "      padding: 0 0 0 0;\n",
              "      width: 32px;\n",
              "    }\n",
              "\n",
              "    .colab-df-convert:hover {\n",
              "      background-color: #E2EBFA;\n",
              "      box-shadow: 0px 1px 2px rgba(60, 64, 67, 0.3), 0px 1px 3px 1px rgba(60, 64, 67, 0.15);\n",
              "      fill: #174EA6;\n",
              "    }\n",
              "\n",
              "    .colab-df-buttons div {\n",
              "      margin-bottom: 4px;\n",
              "    }\n",
              "\n",
              "    [theme=dark] .colab-df-convert {\n",
              "      background-color: #3B4455;\n",
              "      fill: #D2E3FC;\n",
              "    }\n",
              "\n",
              "    [theme=dark] .colab-df-convert:hover {\n",
              "      background-color: #434B5C;\n",
              "      box-shadow: 0px 1px 3px 1px rgba(0, 0, 0, 0.15);\n",
              "      filter: drop-shadow(0px 1px 2px rgba(0, 0, 0, 0.3));\n",
              "      fill: #FFFFFF;\n",
              "    }\n",
              "  </style>\n",
              "\n",
              "    <script>\n",
              "      const buttonEl =\n",
              "        document.querySelector('#df-0c4171bd-f0c8-4cc9-a9bc-5c42e23379ff button.colab-df-convert');\n",
              "      buttonEl.style.display =\n",
              "        google.colab.kernel.accessAllowed ? 'block' : 'none';\n",
              "\n",
              "      async function convertToInteractive(key) {\n",
              "        const element = document.querySelector('#df-0c4171bd-f0c8-4cc9-a9bc-5c42e23379ff');\n",
              "        const dataTable =\n",
              "          await google.colab.kernel.invokeFunction('convertToInteractive',\n",
              "                                                    [key], {});\n",
              "        if (!dataTable) return;\n",
              "\n",
              "        const docLinkHtml = 'Like what you see? Visit the ' +\n",
              "          '<a target=\"_blank\" href=https://colab.research.google.com/notebooks/data_table.ipynb>data table notebook</a>'\n",
              "          + ' to learn more about interactive tables.';\n",
              "        element.innerHTML = '';\n",
              "        dataTable['output_type'] = 'display_data';\n",
              "        await google.colab.output.renderOutput(dataTable, element);\n",
              "        const docLink = document.createElement('div');\n",
              "        docLink.innerHTML = docLinkHtml;\n",
              "        element.appendChild(docLink);\n",
              "      }\n",
              "    </script>\n",
              "  </div>\n",
              "\n",
              "\n",
              "<div id=\"df-d128f9ea-aa40-4e94-89b7-a839b5f493ff\">\n",
              "  <button class=\"colab-df-quickchart\" onclick=\"quickchart('df-d128f9ea-aa40-4e94-89b7-a839b5f493ff')\"\n",
              "            title=\"Suggest charts\"\n",
              "            style=\"display:none;\">\n",
              "\n",
              "<svg xmlns=\"http://www.w3.org/2000/svg\" height=\"24px\"viewBox=\"0 0 24 24\"\n",
              "     width=\"24px\">\n",
              "    <g>\n",
              "        <path d=\"M19 3H5c-1.1 0-2 .9-2 2v14c0 1.1.9 2 2 2h14c1.1 0 2-.9 2-2V5c0-1.1-.9-2-2-2zM9 17H7v-7h2v7zm4 0h-2V7h2v10zm4 0h-2v-4h2v4z\"/>\n",
              "    </g>\n",
              "</svg>\n",
              "  </button>\n",
              "\n",
              "<style>\n",
              "  .colab-df-quickchart {\n",
              "      --bg-color: #E8F0FE;\n",
              "      --fill-color: #1967D2;\n",
              "      --hover-bg-color: #E2EBFA;\n",
              "      --hover-fill-color: #174EA6;\n",
              "      --disabled-fill-color: #AAA;\n",
              "      --disabled-bg-color: #DDD;\n",
              "  }\n",
              "\n",
              "  [theme=dark] .colab-df-quickchart {\n",
              "      --bg-color: #3B4455;\n",
              "      --fill-color: #D2E3FC;\n",
              "      --hover-bg-color: #434B5C;\n",
              "      --hover-fill-color: #FFFFFF;\n",
              "      --disabled-bg-color: #3B4455;\n",
              "      --disabled-fill-color: #666;\n",
              "  }\n",
              "\n",
              "  .colab-df-quickchart {\n",
              "    background-color: var(--bg-color);\n",
              "    border: none;\n",
              "    border-radius: 50%;\n",
              "    cursor: pointer;\n",
              "    display: none;\n",
              "    fill: var(--fill-color);\n",
              "    height: 32px;\n",
              "    padding: 0;\n",
              "    width: 32px;\n",
              "  }\n",
              "\n",
              "  .colab-df-quickchart:hover {\n",
              "    background-color: var(--hover-bg-color);\n",
              "    box-shadow: 0 1px 2px rgba(60, 64, 67, 0.3), 0 1px 3px 1px rgba(60, 64, 67, 0.15);\n",
              "    fill: var(--button-hover-fill-color);\n",
              "  }\n",
              "\n",
              "  .colab-df-quickchart-complete:disabled,\n",
              "  .colab-df-quickchart-complete:disabled:hover {\n",
              "    background-color: var(--disabled-bg-color);\n",
              "    fill: var(--disabled-fill-color);\n",
              "    box-shadow: none;\n",
              "  }\n",
              "\n",
              "  .colab-df-spinner {\n",
              "    border: 2px solid var(--fill-color);\n",
              "    border-color: transparent;\n",
              "    border-bottom-color: var(--fill-color);\n",
              "    animation:\n",
              "      spin 1s steps(1) infinite;\n",
              "  }\n",
              "\n",
              "  @keyframes spin {\n",
              "    0% {\n",
              "      border-color: transparent;\n",
              "      border-bottom-color: var(--fill-color);\n",
              "      border-left-color: var(--fill-color);\n",
              "    }\n",
              "    20% {\n",
              "      border-color: transparent;\n",
              "      border-left-color: var(--fill-color);\n",
              "      border-top-color: var(--fill-color);\n",
              "    }\n",
              "    30% {\n",
              "      border-color: transparent;\n",
              "      border-left-color: var(--fill-color);\n",
              "      border-top-color: var(--fill-color);\n",
              "      border-right-color: var(--fill-color);\n",
              "    }\n",
              "    40% {\n",
              "      border-color: transparent;\n",
              "      border-right-color: var(--fill-color);\n",
              "      border-top-color: var(--fill-color);\n",
              "    }\n",
              "    60% {\n",
              "      border-color: transparent;\n",
              "      border-right-color: var(--fill-color);\n",
              "    }\n",
              "    80% {\n",
              "      border-color: transparent;\n",
              "      border-right-color: var(--fill-color);\n",
              "      border-bottom-color: var(--fill-color);\n",
              "    }\n",
              "    90% {\n",
              "      border-color: transparent;\n",
              "      border-bottom-color: var(--fill-color);\n",
              "    }\n",
              "  }\n",
              "</style>\n",
              "\n",
              "  <script>\n",
              "    async function quickchart(key) {\n",
              "      const quickchartButtonEl =\n",
              "        document.querySelector('#' + key + ' button');\n",
              "      quickchartButtonEl.disabled = true;  // To prevent multiple clicks.\n",
              "      quickchartButtonEl.classList.add('colab-df-spinner');\n",
              "      try {\n",
              "        const charts = await google.colab.kernel.invokeFunction(\n",
              "            'suggestCharts', [key], {});\n",
              "      } catch (error) {\n",
              "        console.error('Error during call to suggestCharts:', error);\n",
              "      }\n",
              "      quickchartButtonEl.classList.remove('colab-df-spinner');\n",
              "      quickchartButtonEl.classList.add('colab-df-quickchart-complete');\n",
              "    }\n",
              "    (() => {\n",
              "      let quickchartButtonEl =\n",
              "        document.querySelector('#df-d128f9ea-aa40-4e94-89b7-a839b5f493ff button');\n",
              "      quickchartButtonEl.style.display =\n",
              "        google.colab.kernel.accessAllowed ? 'block' : 'none';\n",
              "    })();\n",
              "  </script>\n",
              "</div>\n",
              "    </div>\n",
              "  </div>\n"
            ],
            "text/plain": [
              "                                               subject  \\\n",
              "0    🚀 Propel Your Marketing ROI with Advanced Anal...   \n",
              "1    Data is Your Superpower 📊 Unlock Insights with Us   \n",
              "2    Turn Marketing Data Into Decisions 🧐 Let's Exp...   \n",
              "3    Marketing Success is a Click Away - Let's Chat...   \n",
              "4    🚀 Boost Your Brand's Visibility with Proven Ma...   \n",
              "..                                                 ...   \n",
              "100                                                NaN   \n",
              "101                      Boost Your Brand Visibility 🚀   \n",
              "102    🔍 Outpace Competitors with Insightful Analytics   \n",
              "103                         Tailored Analytics for You   \n",
              "104          Let's Make Data-Driven Decisions Together   \n",
              "\n",
              "                                                  body opened  \\\n",
              "0    Hey [Recipient's Name],\\n\\nReady to see your m...  False   \n",
              "1    Hi [Recipient's Name],\\n\\nI'm reaching out aga...   True   \n",
              "2    Greetings [Recipient's Name],\\n\\nWe haven't co...  False   \n",
              "3    Hello [Recipient's Name],\\n\\nIt's clear that y...   True   \n",
              "4    Hi [Recipient's Name],\\n\\nIn the digital age, ...  False   \n",
              "..                                                 ...    ...   \n",
              "100                                                NaN    NaN   \n",
              "101  Hello [Recipient's Name],\\n\\nWant to skyrocket...   True   \n",
              "102  Hi [Recipient's Name],\\n\\nI noticed you're nav...   True   \n",
              "103  Hey [Recipient's Name],\\n\\nYour brand deserves...  False   \n",
              "104  Dear [Recipient's Name],\\n\\nI can't help but n...   True   \n",
              "\n",
              "    meeting link clicked responded meeting_link_clicked  \n",
              "0                  False     False                  NaN  \n",
              "1                  False     False                  NaN  \n",
              "2                  False     False                  NaN  \n",
              "3                   True     False                  NaN  \n",
              "4                  False     False                  NaN  \n",
              "..                   ...       ...                  ...  \n",
              "100                  NaN       NaN                  NaN  \n",
              "101                False     False                  NaN  \n",
              "102                False     False                  NaN  \n",
              "103                False     False                  NaN  \n",
              "104                 True     False                  NaN  \n",
              "\n",
              "[105 rows x 6 columns]"
            ]
          },
          "execution_count": 54,
          "metadata": {},
          "output_type": "execute_result"
        }
      ],
      "source": [
        "df"
      ]
    },
    {
      "cell_type": "code",
      "execution_count": 56,
      "metadata": {
        "colab": {
          "base_uri": "https://localhost:8080/"
        },
        "id": "9TZ6xKB4ZmHz",
        "outputId": "ed7d77f5-b4bb-4437-f91d-dd101acbf792"
      },
      "outputs": [
        {
          "data": {
            "text/plain": [
              "False    81\n",
              "True     24\n",
              "Name: opened, dtype: int64"
            ]
          },
          "execution_count": 56,
          "metadata": {},
          "output_type": "execute_result"
        }
      ],
      "source": [
        "df['opened'].isnull().value_counts()"
      ]
    },
    {
      "cell_type": "code",
      "execution_count": 57,
      "metadata": {
        "colab": {
          "base_uri": "https://localhost:8080/"
        },
        "id": "LDCaOlUBagJA",
        "outputId": "0bba1a25-0c48-473d-b5f7-9c75f5217a83"
      },
      "outputs": [
        {
          "data": {
            "text/plain": [
              "False    81\n",
              "True     24\n",
              "Name: responded, dtype: int64"
            ]
          },
          "execution_count": 57,
          "metadata": {},
          "output_type": "execute_result"
        }
      ],
      "source": [
        "df['responded'].isnull().value_counts()"
      ]
    },
    {
      "cell_type": "code",
      "execution_count": 58,
      "metadata": {
        "colab": {
          "base_uri": "https://localhost:8080/"
        },
        "id": "wHbXxTUGapY-",
        "outputId": "8b8a1afc-0b42-4db5-c109-61cc9f47c510"
      },
      "outputs": [
        {
          "data": {
            "text/plain": [
              "True     99\n",
              "False     6\n",
              "Name: meeting_link_clicked, dtype: int64"
            ]
          },
          "execution_count": 58,
          "metadata": {},
          "output_type": "execute_result"
        }
      ],
      "source": [
        "df['meeting_link_clicked'].isnull().value_counts()"
      ]
    },
    {
      "cell_type": "code",
      "execution_count": 59,
      "metadata": {
        "id": "no2ghrFQaxW7"
      },
      "outputs": [],
      "source": [
        "df.drop(columns=['meeting_link_clicked'],inplace=True)"
      ]
    },
    {
      "cell_type": "code",
      "execution_count": 61,
      "metadata": {
        "colab": {
          "base_uri": "https://localhost:8080/"
        },
        "id": "ZwvcCwGTbDyH",
        "outputId": "d712bf48-8858-4bcc-b195-b4ec2b85bce3"
      },
      "outputs": [
        {
          "data": {
            "text/plain": [
              "False    75\n",
              "True     30\n",
              "Name: meeting link clicked, dtype: int64"
            ]
          },
          "execution_count": 61,
          "metadata": {},
          "output_type": "execute_result"
        }
      ],
      "source": [
        "df['meeting link clicked'].isnull().value_counts()"
      ]
    },
    {
      "cell_type": "code",
      "execution_count": 63,
      "metadata": {
        "colab": {
          "base_uri": "https://localhost:8080/"
        },
        "id": "FVe7lMFDbEgp",
        "outputId": "56d3a04f-7b2d-4110-c1be-07ae11237165"
      },
      "outputs": [
        {
          "data": {
            "text/plain": [
              "False    81\n",
              "True     24\n",
              "Name: body, dtype: int64"
            ]
          },
          "execution_count": 63,
          "metadata": {},
          "output_type": "execute_result"
        }
      ],
      "source": [
        "df['body'].isnull().value_counts()"
      ]
    },
    {
      "cell_type": "code",
      "execution_count": 69,
      "metadata": {
        "colab": {
          "base_uri": "https://localhost:8080/"
        },
        "id": "T52c7hb1b3JH",
        "outputId": "9dcc5506-758b-47e2-caed-c81101469abf"
      },
      "outputs": [
        {
          "data": {
            "text/plain": [
              "<bound method Series.mode of 0      Hey [Recipient's Name],\\n\\nReady to see your m...\n",
              "1      Hi [Recipient's Name],\\n\\nI'm reaching out aga...\n",
              "2      Greetings [Recipient's Name],\\n\\nWe haven't co...\n",
              "3      Hello [Recipient's Name],\\n\\nIt's clear that y...\n",
              "4      Hi [Recipient's Name],\\n\\nIn the digital age, ...\n",
              "                             ...                        \n",
              "100                                                  NaN\n",
              "101    Hello [Recipient's Name],\\n\\nWant to skyrocket...\n",
              "102    Hi [Recipient's Name],\\n\\nI noticed you're nav...\n",
              "103    Hey [Recipient's Name],\\n\\nYour brand deserves...\n",
              "104    Dear [Recipient's Name],\\n\\nI can't help but n...\n",
              "Name: body, Length: 105, dtype: object>"
            ]
          },
          "execution_count": 69,
          "metadata": {},
          "output_type": "execute_result"
        }
      ],
      "source": [
        "df['body'].mode"
      ]
    },
    {
      "cell_type": "markdown",
      "metadata": {
        "id": "exqlFwq_dB-X"
      },
      "source": [
        "## Since body and suject columns have some missing values, let's substitute them with some string like \"no content available\""
      ]
    },
    {
      "cell_type": "code",
      "execution_count": 70,
      "metadata": {
        "id": "LKTtv-cwcAed"
      },
      "outputs": [],
      "source": [
        "df['body'].fillna('No content available', inplace=True)"
      ]
    },
    {
      "cell_type": "code",
      "execution_count": 71,
      "metadata": {
        "id": "eDxkAbg7dXSR"
      },
      "outputs": [],
      "source": [
        "df['subject'].fillna('No content available', inplace=True)"
      ]
    },
    {
      "cell_type": "code",
      "execution_count": 74,
      "metadata": {
        "colab": {
          "base_uri": "https://localhost:8080/"
        },
        "id": "xtYgFRdYdan9",
        "outputId": "cdea27ff-8548-46ca-f658-6e7a0d705789"
      },
      "outputs": [
        {
          "data": {
            "text/plain": [
              "array([False])"
            ]
          },
          "execution_count": 74,
          "metadata": {},
          "output_type": "execute_result"
        }
      ],
      "source": [
        "df['subject'].isnull().unique()"
      ]
    },
    {
      "cell_type": "code",
      "execution_count": 76,
      "metadata": {
        "colab": {
          "base_uri": "https://localhost:8080/"
        },
        "id": "BKf9kF52dfpZ",
        "outputId": "ef43ffb9-1ea0-47dc-eb5d-6560a52f97e2"
      },
      "outputs": [
        {
          "data": {
            "text/plain": [
              "True     60\n",
              "False    21\n",
              "Name: opened, dtype: int64"
            ]
          },
          "execution_count": 76,
          "metadata": {},
          "output_type": "execute_result"
        }
      ],
      "source": [
        "df['opened'].value_counts()"
      ]
    },
    {
      "cell_type": "markdown",
      "metadata": {
        "id": "H9tsPHoud6WG"
      },
      "source": [
        "## Since more than 70% of the values in opened column are true, let's fill the null values with True"
      ]
    },
    {
      "cell_type": "code",
      "execution_count": 79,
      "metadata": {
        "id": "_0PBQh2Odmlh"
      },
      "outputs": [],
      "source": [
        "df['opened'].fillna(True,inplace=True)"
      ]
    },
    {
      "cell_type": "code",
      "execution_count": 82,
      "metadata": {
        "colab": {
          "base_uri": "https://localhost:8080/"
        },
        "id": "p60_GmA-duRd",
        "outputId": "d8a5a7de-e12e-485b-e06b-bbb65038c5a6"
      },
      "outputs": [
        {
          "data": {
            "text/plain": [
              "False    53\n",
              "True     22\n",
              "Name: meeting link clicked, dtype: int64"
            ]
          },
          "execution_count": 82,
          "metadata": {},
          "output_type": "execute_result"
        }
      ],
      "source": [
        "df['meeting link clicked'].value_counts()"
      ]
    },
    {
      "cell_type": "markdown",
      "metadata": {
        "id": "EywBibLgeXWx"
      },
      "source": [
        "## Since more than half values in the 'meeting link clicked' column are false values, let's substitue the null values with the False category."
      ]
    },
    {
      "cell_type": "code",
      "execution_count": 89,
      "metadata": {
        "id": "krLt1flkePcX"
      },
      "outputs": [],
      "source": [
        "df['meeting link clicked'].fillna(False,inplace=True)"
      ]
    },
    {
      "cell_type": "code",
      "execution_count": 85,
      "metadata": {
        "colab": {
          "base_uri": "https://localhost:8080/"
        },
        "id": "pQhu7a2uernu",
        "outputId": "4aeac48b-3654-4698-dfa2-38d3d0f0f45f"
      },
      "outputs": [
        {
          "data": {
            "text/plain": [
              "False    77\n",
              "True      4\n",
              "Name: responded, dtype: int64"
            ]
          },
          "execution_count": 85,
          "metadata": {},
          "output_type": "execute_result"
        }
      ],
      "source": [
        "df['responded'].value_counts()"
      ]
    },
    {
      "cell_type": "code",
      "execution_count": 86,
      "metadata": {
        "colab": {
          "base_uri": "https://localhost:8080/"
        },
        "id": "aSeWvY_pewsN",
        "outputId": "dcc70399-fbf9-4585-ec03-50f5e290ab89"
      },
      "outputs": [
        {
          "data": {
            "text/plain": [
              "False    81\n",
              "True     24\n",
              "Name: responded, dtype: int64"
            ]
          },
          "execution_count": 86,
          "metadata": {},
          "output_type": "execute_result"
        }
      ],
      "source": [
        "df['responded'].isnull().value_counts()"
      ]
    },
    {
      "cell_type": "markdown",
      "metadata": {
        "id": "fCOA0wO_e_YK"
      },
      "source": [
        "## Same logic applies for the responded column, we are going to substitute with False"
      ]
    },
    {
      "cell_type": "code",
      "execution_count": 87,
      "metadata": {
        "id": "tXuaITdge9Ce"
      },
      "outputs": [],
      "source": [
        "df['responded'].fillna(False,inplace=True)"
      ]
    },
    {
      "cell_type": "code",
      "execution_count": 91,
      "metadata": {
        "colab": {
          "base_uri": "https://localhost:8080/"
        },
        "id": "Q9szH9T6fO63",
        "outputId": "43240d87-5509-46f5-9782-fdfe92d11bde"
      },
      "outputs": [
        {
          "data": {
            "text/plain": [
              "subject  body   opened  meeting link clicked  responded\n",
              "False    False  False   False                 False        105\n",
              "dtype: int64"
            ]
          },
          "execution_count": 91,
          "metadata": {},
          "output_type": "execute_result"
        }
      ],
      "source": [
        "df.isnull().value_counts()"
      ]
    },
    {
      "cell_type": "markdown",
      "metadata": {
        "id": "8tWyTWK7fn7T"
      },
      "source": [
        "## We successfully handled all the null values in the dataset"
      ]
    },
    {
      "cell_type": "markdown",
      "metadata": {
        "id": "XSvtgZ9qfxAb"
      },
      "source": [
        "# Data Visualization\n",
        "## Let's visualize the dataset for insights"
      ]
    },
    {
      "cell_type": "markdown",
      "metadata": {
        "id": "md66vmqkgQ2A"
      },
      "source": [
        "## From the graph obtained, we can say that more than 80% of the sent mails are opened by the clients."
      ]
    },
    {
      "cell_type": "code",
      "execution_count": 93,
      "metadata": {
        "colab": {
          "base_uri": "https://localhost:8080/",
          "height": 466
        },
        "id": "523jxLAafVdg",
        "outputId": "bd39d0fc-2182-4b47-9994-3710b2a6c0ef"
      },
      "outputs": [
        {
          "data": {
            "text/plain": [
              "<Axes: xlabel='opened', ylabel='Density'>"
            ]
          },
          "execution_count": 93,
          "metadata": {},
          "output_type": "execute_result"
        },
        {
          "data": {
            "image/png": "[encoded data removed]",
            "text/plain": [
              "<Figure size 640x480 with 1 Axes>"
            ]
          },
          "metadata": {},
          "output_type": "display_data"
        }
      ],
      "source": [
        "sns.kdeplot(df['opened'])"
      ]
    },
    {
      "cell_type": "markdown",
      "metadata": {
        "id": "wtEREN2DgqJH"
      },
      "source": [
        "# When it comes to the user response to the mails, it is almost negligable in amount, and most likely if we send a mail, we will not get a written response from the client"
      ]
    },
    {
      "cell_type": "code",
      "execution_count": 94,
      "metadata": {
        "colab": {
          "base_uri": "https://localhost:8080/",
          "height": 466
        },
        "id": "V_1cOiZngG06",
        "outputId": "9eef08e9-2d9b-49dd-d9cb-3888245c2362"
      },
      "outputs": [
        {
          "data": {
            "text/plain": [
              "<Axes: xlabel='responded', ylabel='Density'>"
            ]
          },
          "execution_count": 94,
          "metadata": {},
          "output_type": "execute_result"
        },
        {
          "data": {
            "image/png": "[encoded data removed]",
            "text/plain": [
              "<Figure size 640x480 with 1 Axes>"
            ]
          },
          "metadata": {},
          "output_type": "display_data"
        }
      ],
      "source": [
        "sns.kdeplot(df['responded'])"
      ]
    },
    {
      "cell_type": "markdown",
      "metadata": {
        "id": "pupB6IjkhFN0"
      },
      "source": [
        "## The meeting link click rate is also very low, and is about 20-25%"
      ]
    },
    {
      "cell_type": "code",
      "execution_count": 95,
      "metadata": {
        "colab": {
          "base_uri": "https://localhost:8080/",
          "height": 466
        },
        "id": "ZUYsONEPgn-o",
        "outputId": "fcca36cb-def3-4b1d-dad7-653613e2220b"
      },
      "outputs": [
        {
          "data": {
            "text/plain": [
              "<Axes: xlabel='meeting link clicked', ylabel='Density'>"
            ]
          },
          "execution_count": 95,
          "metadata": {},
          "output_type": "execute_result"
        },
        {
          "data": {
            "image/png": "[encoded data removed]",
            "text/plain": [
              "<Figure size 640x480 with 1 Axes>"
            ]
          },
          "metadata": {},
          "output_type": "display_data"
        }
      ],
      "source": [
        "sns.kdeplot(df['meeting link clicked'])"
      ]
    },
    {
      "cell_type": "markdown",
      "metadata": {
        "id": "rUV6xQzkha1a"
      },
      "source": [
        "## So we can conclude by saying that around 90% of the mails being sent to the clients are being opened by them, and around 20% of the mails we send them are resulting in the users to click the meeting link, and the written response from the user or reply from the user in form of mail is almost negligable."
      ]
    },
    {
      "cell_type": "markdown",
      "metadata": {
        "id": "HnvHtWOOiSu8"
      },
      "source": [
        "# Deep learnig NLP model to predict the user response for sent mails."
      ]
    },
    {
      "cell_type": "markdown",
      "metadata": {
        "id": "inl-4BfdifL_"
      },
      "source": [
        "## The basic idea is to create individual deep learning models to predict the targets, and at the end we will build an ensemble model for combined prediction of the targets."
      ]
    },
    {
      "cell_type": "markdown",
      "metadata": {
        "id": "PnskHDLJi4s_"
      },
      "source": [
        "## We will be building models to predict the 'meeting link clicked' variable in the dataset\n"
      ]
    },
    {
      "cell_type": "code",
      "execution_count": 103,
      "metadata": {
        "id": "lsEYKubVjHYC"
      },
      "outputs": [],
      "source": [
        "for i in range(len(df['opened'])):\n",
        "  if df['opened'][i]==True:df['opened'][i]=1\n",
        "  else: df['opened'][i]=0"
      ]
    },
    {
      "cell_type": "code",
      "execution_count": 104,
      "metadata": {
        "id": "18AdmEcKjfwB"
      },
      "outputs": [],
      "source": [
        "for i in range(len(df['responded'])):\n",
        "  if df['responded'][i]==True:df['responded'][i]=1\n",
        "  else: df['responded'][i]=0"
      ]
    },
    {
      "cell_type": "code",
      "execution_count": 127,
      "metadata": {
        "id": "G5HvWiZAjgi3"
      },
      "outputs": [],
      "source": [
        "for i in range(len(df['meeting link clicked'])):\n",
        "  if df['meeting link clicked'][i]==True:df['meeting link clicked'][i]=1\n",
        "  else: df['meeting link clicked'][i]=0"
      ]
    },
    {
      "cell_type": "code",
      "execution_count": 128,
      "metadata": {
        "colab": {
          "base_uri": "https://localhost:8080/",
          "height": 423
        },
        "id": "7uBIYZ0_kYel",
        "outputId": "59d93e13-0e21-48bc-da97-d8a471efeba9"
      },
      "outputs": [
        {
          "data": {
            "text/html": [
              "\n",
              "  <div id=\"df-64eea414-8215-481a-93d4-824fd58961f0\" class=\"colab-df-container\">\n",
              "    <div>\n",
              "<style scoped>\n",
              "    .dataframe tbody tr th:only-of-type {\n",
              "        vertical-align: middle;\n",
              "    }\n",
              "\n",
              "    .dataframe tbody tr th {\n",
              "        vertical-align: top;\n",
              "    }\n",
              "\n",
              "    .dataframe thead th {\n",
              "        text-align: right;\n",
              "    }\n",
              "</style>\n",
              "<table border=\"1\" class=\"dataframe\">\n",
              "  <thead>\n",
              "    <tr style=\"text-align: right;\">\n",
              "      <th></th>\n",
              "      <th>subject</th>\n",
              "      <th>body</th>\n",
              "      <th>opened</th>\n",
              "      <th>meeting link clicked</th>\n",
              "      <th>responded</th>\n",
              "    </tr>\n",
              "  </thead>\n",
              "  <tbody>\n",
              "    <tr>\n",
              "      <th>0</th>\n",
              "      <td>🚀 Propel Your Marketing ROI with Advanced Anal...</td>\n",
              "      <td>Hey [Recipient's Name],\\n\\nReady to see your m...</td>\n",
              "      <td>0</td>\n",
              "      <td>0</td>\n",
              "      <td>0</td>\n",
              "    </tr>\n",
              "    <tr>\n",
              "      <th>1</th>\n",
              "      <td>Data is Your Superpower 📊 Unlock Insights with Us</td>\n",
              "      <td>Hi [Recipient's Name],\\n\\nI'm reaching out aga...</td>\n",
              "      <td>1</td>\n",
              "      <td>0</td>\n",
              "      <td>1</td>\n",
              "    </tr>\n",
              "    <tr>\n",
              "      <th>2</th>\n",
              "      <td>Turn Marketing Data Into Decisions 🧐 Let's Exp...</td>\n",
              "      <td>Greetings [Recipient's Name],\\n\\nWe haven't co...</td>\n",
              "      <td>0</td>\n",
              "      <td>0</td>\n",
              "      <td>0</td>\n",
              "    </tr>\n",
              "    <tr>\n",
              "      <th>3</th>\n",
              "      <td>Marketing Success is a Click Away - Let's Chat...</td>\n",
              "      <td>Hello [Recipient's Name],\\n\\nIt's clear that y...</td>\n",
              "      <td>1</td>\n",
              "      <td>1</td>\n",
              "      <td>1</td>\n",
              "    </tr>\n",
              "    <tr>\n",
              "      <th>4</th>\n",
              "      <td>🚀 Boost Your Brand's Visibility with Proven Ma...</td>\n",
              "      <td>Hi [Recipient's Name],\\n\\nIn the digital age, ...</td>\n",
              "      <td>0</td>\n",
              "      <td>0</td>\n",
              "      <td>0</td>\n",
              "    </tr>\n",
              "    <tr>\n",
              "      <th>...</th>\n",
              "      <td>...</td>\n",
              "      <td>...</td>\n",
              "      <td>...</td>\n",
              "      <td>...</td>\n",
              "      <td>...</td>\n",
              "    </tr>\n",
              "    <tr>\n",
              "      <th>100</th>\n",
              "      <td>No content available</td>\n",
              "      <td>No content available</td>\n",
              "      <td>1</td>\n",
              "      <td>0</td>\n",
              "      <td>1</td>\n",
              "    </tr>\n",
              "    <tr>\n",
              "      <th>101</th>\n",
              "      <td>Boost Your Brand Visibility 🚀</td>\n",
              "      <td>Hello [Recipient's Name],\\n\\nWant to skyrocket...</td>\n",
              "      <td>1</td>\n",
              "      <td>0</td>\n",
              "      <td>1</td>\n",
              "    </tr>\n",
              "    <tr>\n",
              "      <th>102</th>\n",
              "      <td>🔍 Outpace Competitors with Insightful Analytics</td>\n",
              "      <td>Hi [Recipient's Name],\\n\\nI noticed you're nav...</td>\n",
              "      <td>1</td>\n",
              "      <td>0</td>\n",
              "      <td>1</td>\n",
              "    </tr>\n",
              "    <tr>\n",
              "      <th>103</th>\n",
              "      <td>Tailored Analytics for You</td>\n",
              "      <td>Hey [Recipient's Name],\\n\\nYour brand deserves...</td>\n",
              "      <td>0</td>\n",
              "      <td>0</td>\n",
              "      <td>0</td>\n",
              "    </tr>\n",
              "    <tr>\n",
              "      <th>104</th>\n",
              "      <td>Let's Make Data-Driven Decisions Together</td>\n",
              "      <td>Dear [Recipient's Name],\\n\\nI can't help but n...</td>\n",
              "      <td>1</td>\n",
              "      <td>1</td>\n",
              "      <td>1</td>\n",
              "    </tr>\n",
              "  </tbody>\n",
              "</table>\n",
              "<p>105 rows × 5 columns</p>\n",
              "</div>\n",
              "    <div class=\"colab-df-buttons\">\n",
              "\n",
              "  <div class=\"colab-df-container\">\n",
              "    <button class=\"colab-df-convert\" onclick=\"convertToInteractive('df-64eea414-8215-481a-93d4-824fd58961f0')\"\n",
              "            title=\"Convert this dataframe to an interactive table.\"\n",
              "            style=\"display:none;\">\n",
              "\n",
              "  <svg xmlns=\"http://www.w3.org/2000/svg\" height=\"24px\" viewBox=\"0 -960 960 960\">\n",
              "    <path d=\"M120-120v-720h720v720H120Zm60-500h600v-160H180v160Zm220 220h160v-160H400v160Zm0 220h160v-160H400v160ZM180-400h160v-160H180v160Zm440 0h160v-160H620v160ZM180-180h160v-160H180v160Zm440 0h160v-160H620v160Z\"/>\n",
              "  </svg>\n",
              "    </button>\n",
              "\n",
              "  <style>\n",
              "    .colab-df-container {\n",
              "      display:flex;\n",
              "      gap: 12px;\n",
              "    }\n",
              "\n",
              "    .colab-df-convert {\n",
              "      background-color: #E8F0FE;\n",
              "      border: none;\n",
              "      border-radius: 50%;\n",
              "      cursor: pointer;\n",
              "      display: none;\n",
              "      fill: #1967D2;\n",
              "      height: 32px;\n",
              "      padding: 0 0 0 0;\n",
              "      width: 32px;\n",
              "    }\n",
              "\n",
              "    .colab-df-convert:hover {\n",
              "      background-color: #E2EBFA;\n",
              "      box-shadow: 0px 1px 2px rgba(60, 64, 67, 0.3), 0px 1px 3px 1px rgba(60, 64, 67, 0.15);\n",
              "      fill: #174EA6;\n",
              "    }\n",
              "\n",
              "    .colab-df-buttons div {\n",
              "      margin-bottom: 4px;\n",
              "    }\n",
              "\n",
              "    [theme=dark] .colab-df-convert {\n",
              "      background-color: #3B4455;\n",
              "      fill: #D2E3FC;\n",
              "    }\n",
              "\n",
              "    [theme=dark] .colab-df-convert:hover {\n",
              "      background-color: #434B5C;\n",
              "      box-shadow: 0px 1px 3px 1px rgba(0, 0, 0, 0.15);\n",
              "      filter: drop-shadow(0px 1px 2px rgba(0, 0, 0, 0.3));\n",
              "      fill: #FFFFFF;\n",
              "    }\n",
              "  </style>\n",
              "\n",
              "    <script>\n",
              "      const buttonEl =\n",
              "        document.querySelector('#df-64eea414-8215-481a-93d4-824fd58961f0 button.colab-df-convert');\n",
              "      buttonEl.style.display =\n",
              "        google.colab.kernel.accessAllowed ? 'block' : 'none';\n",
              "\n",
              "      async function convertToInteractive(key) {\n",
              "        const element = document.querySelector('#df-64eea414-8215-481a-93d4-824fd58961f0');\n",
              "        const dataTable =\n",
              "          await google.colab.kernel.invokeFunction('convertToInteractive',\n",
              "                                                    [key], {});\n",
              "        if (!dataTable) return;\n",
              "\n",
              "        const docLinkHtml = 'Like what you see? Visit the ' +\n",
              "          '<a target=\"_blank\" href=https://colab.research.google.com/notebooks/data_table.ipynb>data table notebook</a>'\n",
              "          + ' to learn more about interactive tables.';\n",
              "        element.innerHTML = '';\n",
              "        dataTable['output_type'] = 'display_data';\n",
              "        await google.colab.output.renderOutput(dataTable, element);\n",
              "        const docLink = document.createElement('div');\n",
              "        docLink.innerHTML = docLinkHtml;\n",
              "        element.appendChild(docLink);\n",
              "      }\n",
              "    </script>\n",
              "  </div>\n",
              "\n",
              "\n",
              "<div id=\"df-d0cc97c4-e421-4b6f-a83d-00e5272059e9\">\n",
              "  <button class=\"colab-df-quickchart\" onclick=\"quickchart('df-d0cc97c4-e421-4b6f-a83d-00e5272059e9')\"\n",
              "            title=\"Suggest charts\"\n",
              "            style=\"display:none;\">\n",
              "\n",
              "<svg xmlns=\"http://www.w3.org/2000/svg\" height=\"24px\"viewBox=\"0 0 24 24\"\n",
              "     width=\"24px\">\n",
              "    <g>\n",
              "        <path d=\"M19 3H5c-1.1 0-2 .9-2 2v14c0 1.1.9 2 2 2h14c1.1 0 2-.9 2-2V5c0-1.1-.9-2-2-2zM9 17H7v-7h2v7zm4 0h-2V7h2v10zm4 0h-2v-4h2v4z\"/>\n",
              "    </g>\n",
              "</svg>\n",
              "  </button>\n",
              "\n",
              "<style>\n",
              "  .colab-df-quickchart {\n",
              "      --bg-color: #E8F0FE;\n",
              "      --fill-color: #1967D2;\n",
              "      --hover-bg-color: #E2EBFA;\n",
              "      --hover-fill-color: #174EA6;\n",
              "      --disabled-fill-color: #AAA;\n",
              "      --disabled-bg-color: #DDD;\n",
              "  }\n",
              "\n",
              "  [theme=dark] .colab-df-quickchart {\n",
              "      --bg-color: #3B4455;\n",
              "      --fill-color: #D2E3FC;\n",
              "      --hover-bg-color: #434B5C;\n",
              "      --hover-fill-color: #FFFFFF;\n",
              "      --disabled-bg-color: #3B4455;\n",
              "      --disabled-fill-color: #666;\n",
              "  }\n",
              "\n",
              "  .colab-df-quickchart {\n",
              "    background-color: var(--bg-color);\n",
              "    border: none;\n",
              "    border-radius: 50%;\n",
              "    cursor: pointer;\n",
              "    display: none;\n",
              "    fill: var(--fill-color);\n",
              "    height: 32px;\n",
              "    padding: 0;\n",
              "    width: 32px;\n",
              "  }\n",
              "\n",
              "  .colab-df-quickchart:hover {\n",
              "    background-color: var(--hover-bg-color);\n",
              "    box-shadow: 0 1px 2px rgba(60, 64, 67, 0.3), 0 1px 3px 1px rgba(60, 64, 67, 0.15);\n",
              "    fill: var(--button-hover-fill-color);\n",
              "  }\n",
              "\n",
              "  .colab-df-quickchart-complete:disabled,\n",
              "  .colab-df-quickchart-complete:disabled:hover {\n",
              "    background-color: var(--disabled-bg-color);\n",
              "    fill: var(--disabled-fill-color);\n",
              "    box-shadow: none;\n",
              "  }\n",
              "\n",
              "  .colab-df-spinner {\n",
              "    border: 2px solid var(--fill-color);\n",
              "    border-color: transparent;\n",
              "    border-bottom-color: var(--fill-color);\n",
              "    animation:\n",
              "      spin 1s steps(1) infinite;\n",
              "  }\n",
              "\n",
              "  @keyframes spin {\n",
              "    0% {\n",
              "      border-color: transparent;\n",
              "      border-bottom-color: var(--fill-color);\n",
              "      border-left-color: var(--fill-color);\n",
              "    }\n",
              "    20% {\n",
              "      border-color: transparent;\n",
              "      border-left-color: var(--fill-color);\n",
              "      border-top-color: var(--fill-color);\n",
              "    }\n",
              "    30% {\n",
              "      border-color: transparent;\n",
              "      border-left-color: var(--fill-color);\n",
              "      border-top-color: var(--fill-color);\n",
              "      border-right-color: var(--fill-color);\n",
              "    }\n",
              "    40% {\n",
              "      border-color: transparent;\n",
              "      border-right-color: var(--fill-color);\n",
              "      border-top-color: var(--fill-color);\n",
              "    }\n",
              "    60% {\n",
              "      border-color: transparent;\n",
              "      border-right-color: var(--fill-color);\n",
              "    }\n",
              "    80% {\n",
              "      border-color: transparent;\n",
              "      border-right-color: var(--fill-color);\n",
              "      border-bottom-color: var(--fill-color);\n",
              "    }\n",
              "    90% {\n",
              "      border-color: transparent;\n",
              "      border-bottom-color: var(--fill-color);\n",
              "    }\n",
              "  }\n",
              "</style>\n",
              "\n",
              "  <script>\n",
              "    async function quickchart(key) {\n",
              "      const quickchartButtonEl =\n",
              "        document.querySelector('#' + key + ' button');\n",
              "      quickchartButtonEl.disabled = true;  // To prevent multiple clicks.\n",
              "      quickchartButtonEl.classList.add('colab-df-spinner');\n",
              "      try {\n",
              "        const charts = await google.colab.kernel.invokeFunction(\n",
              "            'suggestCharts', [key], {});\n",
              "      } catch (error) {\n",
              "        console.error('Error during call to suggestCharts:', error);\n",
              "      }\n",
              "      quickchartButtonEl.classList.remove('colab-df-spinner');\n",
              "      quickchartButtonEl.classList.add('colab-df-quickchart-complete');\n",
              "    }\n",
              "    (() => {\n",
              "      let quickchartButtonEl =\n",
              "        document.querySelector('#df-d0cc97c4-e421-4b6f-a83d-00e5272059e9 button');\n",
              "      quickchartButtonEl.style.display =\n",
              "        google.colab.kernel.accessAllowed ? 'block' : 'none';\n",
              "    })();\n",
              "  </script>\n",
              "</div>\n",
              "    </div>\n",
              "  </div>\n"
            ],
            "text/plain": [
              "                                               subject  \\\n",
              "0    🚀 Propel Your Marketing ROI with Advanced Anal...   \n",
              "1    Data is Your Superpower 📊 Unlock Insights with Us   \n",
              "2    Turn Marketing Data Into Decisions 🧐 Let's Exp...   \n",
              "3    Marketing Success is a Click Away - Let's Chat...   \n",
              "4    🚀 Boost Your Brand's Visibility with Proven Ma...   \n",
              "..                                                 ...   \n",
              "100                               No content available   \n",
              "101                      Boost Your Brand Visibility 🚀   \n",
              "102    🔍 Outpace Competitors with Insightful Analytics   \n",
              "103                         Tailored Analytics for You   \n",
              "104          Let's Make Data-Driven Decisions Together   \n",
              "\n",
              "                                                  body opened  \\\n",
              "0    Hey [Recipient's Name],\\n\\nReady to see your m...      0   \n",
              "1    Hi [Recipient's Name],\\n\\nI'm reaching out aga...      1   \n",
              "2    Greetings [Recipient's Name],\\n\\nWe haven't co...      0   \n",
              "3    Hello [Recipient's Name],\\n\\nIt's clear that y...      1   \n",
              "4    Hi [Recipient's Name],\\n\\nIn the digital age, ...      0   \n",
              "..                                                 ...    ...   \n",
              "100                               No content available      1   \n",
              "101  Hello [Recipient's Name],\\n\\nWant to skyrocket...      1   \n",
              "102  Hi [Recipient's Name],\\n\\nI noticed you're nav...      1   \n",
              "103  Hey [Recipient's Name],\\n\\nYour brand deserves...      0   \n",
              "104  Dear [Recipient's Name],\\n\\nI can't help but n...      1   \n",
              "\n",
              "    meeting link clicked responded  \n",
              "0                      0         0  \n",
              "1                      0         1  \n",
              "2                      0         0  \n",
              "3                      1         1  \n",
              "4                      0         0  \n",
              "..                   ...       ...  \n",
              "100                    0         1  \n",
              "101                    0         1  \n",
              "102                    0         1  \n",
              "103                    0         0  \n",
              "104                    1         1  \n",
              "\n",
              "[105 rows x 5 columns]"
            ]
          },
          "execution_count": 128,
          "metadata": {},
          "output_type": "execute_result"
        }
      ],
      "source": [
        "df"
      ]
    },
    {
      "cell_type": "code",
      "execution_count": 107,
      "metadata": {
        "colab": {
          "base_uri": "https://localhost:8080/"
        },
        "id": "9Byefn0ukZLl",
        "outputId": "99b17000-d042-453f-8cb6-e7b1f25246cd"
      },
      "outputs": [
        {
          "data": {
            "text/plain": [
              "Index(['subject', 'body', 'opened', 'meeting link clicked', 'responded'], dtype='object')"
            ]
          },
          "execution_count": 107,
          "metadata": {},
          "output_type": "execute_result"
        }
      ],
      "source": [
        "df.columns"
      ]
    },
    {
      "cell_type": "markdown",
      "metadata": {
        "id": "oxjOp99Tk4wG"
      },
      "source": [
        "##First model we create will be predicting whether the client clicks on the meeting link or not by considering whether or not the user opened the mail, and by whether they responded to the mail or not.\n"
      ]
    },
    {
      "cell_type": "code",
      "execution_count": 111,
      "metadata": {
        "id": "cJTDCuajksXW"
      },
      "outputs": [],
      "source": [
        "X=df[['opened','responded','subject', 'body']]\n",
        "y=df['meeting link clicked']"
      ]
    },
    {
      "cell_type": "markdown",
      "metadata": {
        "id": "BKqGuBqumORW"
      },
      "source": [
        "## Let's create train and test splits for efficient tarining and evaluation."
      ]
    },
    {
      "cell_type": "code",
      "execution_count": 112,
      "metadata": {
        "id": "_ylPGU15l5fq"
      },
      "outputs": [],
      "source": [
        "from sklearn.model_selection import train_test_split"
      ]
    },
    {
      "cell_type": "code",
      "execution_count": 113,
      "metadata": {
        "id": "2dYJFLlBmMUU"
      },
      "outputs": [],
      "source": [
        "X_train,X_test,y_train,y_test=train_test_split(X,y,test_size=0.20,random_state=42)"
      ]
    },
    {
      "cell_type": "code",
      "execution_count": 116,
      "metadata": {
        "id": "-mIi8OEwmji2"
      },
      "outputs": [],
      "source": [
        "X1_train=X_train[['opened','responded']]\n",
        "X2_train=X_train['subject']\n",
        "X3_train=X_train['body']"
      ]
    },
    {
      "cell_type": "code",
      "execution_count": 120,
      "metadata": {
        "id": "HxYA7Lwgm2O2"
      },
      "outputs": [],
      "source": [
        "X1_test=X_test[['opened','responded']]\n",
        "X2_test=X_test['subject']\n",
        "X3_test=X_test['body']"
      ]
    },
    {
      "cell_type": "markdown",
      "metadata": {},
      "source": [
        "##First model we create will be predicting whether the client clicks on the meeting link or not by considering whether or not the user opened the mail, and by whether they responded to the mail or not.\n"
      ]
    },
    {
      "cell_type": "code",
      "execution_count": 121,
      "metadata": {
        "id": "DaJbfZyMk30v"
      },
      "outputs": [],
      "source": [
        "inputs=tf.keras.layers.Input(shape=(2,))\n",
        "x=tf.keras.layers.Dense(32,activation='relu')(inputs)\n",
        "x=tf.keras.layers.Dense(32,activation='relu')(x)\n",
        "x=tf.keras.layers.Dense(32,activation='relu')(x)\n",
        "outputs=tf.keras.layers.Dense(1,activation=\"sigmoid\")(x)\n",
        "model1=tf.keras.Model(inputs,outputs)\n"
      ]
    },
    {
      "cell_type": "code",
      "execution_count": 123,
      "metadata": {
        "id": "uCuvNYeglr_K"
      },
      "outputs": [],
      "source": [
        "model1.compile(optimizer=\"adam\",loss=tf.keras.losses.BinaryCrossentropy(),metrics=['accuracy'])"
      ]
    },
    {
      "cell_type": "code",
      "execution_count": 135,
      "metadata": {
        "id": "oKnSQVl2n8zf"
      },
      "outputs": [],
      "source": [
        "y_train = y_train.astype(np.float32)\n",
        "X1_train = X1_train.astype(np.float32)\n",
        "X1_test = X1_test.astype(np.float32)\n",
        "y_test = y_test.astype(np.float32)"
      ]
    },
    {
      "cell_type": "code",
      "execution_count": 138,
      "metadata": {
        "colab": {
          "base_uri": "https://localhost:8080/"
        },
        "id": "d8s5U0Odlz86",
        "outputId": "f27fcc33-433a-4ae9-f8e2-06d1a2954825"
      },
      "outputs": [
        {
          "name": "stdout",
          "output_type": "stream",
          "text": [
            "Epoch 1/100\n",
            "3/3 [==============================] - 0s 84ms/step - loss: 0.7322 - accuracy: 0.4048 - val_loss: 0.7054 - val_accuracy: 0.4286\n",
            "Epoch 2/100\n",
            "3/3 [==============================] - 0s 15ms/step - loss: 0.7029 - accuracy: 0.4048 - val_loss: 0.6884 - val_accuracy: 0.7143\n",
            "Epoch 3/100\n",
            "3/3 [==============================] - 0s 11ms/step - loss: 0.6799 - accuracy: 0.8095 - val_loss: 0.6745 - val_accuracy: 0.7143\n",
            "Epoch 4/100\n",
            "3/3 [==============================] - 0s 11ms/step - loss: 0.6602 - accuracy: 0.8095 - val_loss: 0.6640 - val_accuracy: 0.7143\n",
            "Epoch 5/100\n",
            "3/3 [==============================] - 0s 23ms/step - loss: 0.6451 - accuracy: 0.8095 - val_loss: 0.6550 - val_accuracy: 0.7143\n",
            "Epoch 6/100\n",
            "3/3 [==============================] - 0s 13ms/step - loss: 0.6293 - accuracy: 0.8095 - val_loss: 0.6475 - val_accuracy: 0.7143\n",
            "Epoch 7/100\n",
            "3/3 [==============================] - 0s 14ms/step - loss: 0.6171 - accuracy: 0.8095 - val_loss: 0.6416 - val_accuracy: 0.7143\n",
            "Epoch 8/100\n",
            "3/3 [==============================] - 0s 12ms/step - loss: 0.6043 - accuracy: 0.8095 - val_loss: 0.6369 - val_accuracy: 0.7143\n",
            "Epoch 9/100\n",
            "3/3 [==============================] - 0s 12ms/step - loss: 0.5954 - accuracy: 0.8095 - val_loss: 0.6336 - val_accuracy: 0.7143\n",
            "Epoch 10/100\n",
            "3/3 [==============================] - 0s 13ms/step - loss: 0.5849 - accuracy: 0.8095 - val_loss: 0.6317 - val_accuracy: 0.7143\n",
            "Epoch 11/100\n",
            "3/3 [==============================] - 0s 14ms/step - loss: 0.5757 - accuracy: 0.8095 - val_loss: 0.6313 - val_accuracy: 0.7143\n",
            "Epoch 12/100\n",
            "3/3 [==============================] - 0s 12ms/step - loss: 0.5685 - accuracy: 0.8095 - val_loss: 0.6323 - val_accuracy: 0.7143\n",
            "Epoch 13/100\n",
            "3/3 [==============================] - 0s 12ms/step - loss: 0.5641 - accuracy: 0.8095 - val_loss: 0.6345 - val_accuracy: 0.7143\n",
            "Epoch 14/100\n",
            "3/3 [==============================] - 0s 12ms/step - loss: 0.5598 - accuracy: 0.8095 - val_loss: 0.6375 - val_accuracy: 0.7143\n",
            "Epoch 15/100\n",
            "3/3 [==============================] - 0s 12ms/step - loss: 0.5550 - accuracy: 0.8095 - val_loss: 0.6401 - val_accuracy: 0.7143\n",
            "Epoch 16/100\n",
            "3/3 [==============================] - 0s 13ms/step - loss: 0.5516 - accuracy: 0.8095 - val_loss: 0.6419 - val_accuracy: 0.7143\n",
            "Epoch 17/100\n",
            "3/3 [==============================] - 0s 12ms/step - loss: 0.5491 - accuracy: 0.8095 - val_loss: 0.6434 - val_accuracy: 0.7143\n",
            "Epoch 18/100\n",
            "3/3 [==============================] - 0s 13ms/step - loss: 0.5474 - accuracy: 0.8095 - val_loss: 0.6453 - val_accuracy: 0.7143\n",
            "Epoch 19/100\n",
            "3/3 [==============================] - 0s 15ms/step - loss: 0.5452 - accuracy: 0.8095 - val_loss: 0.6463 - val_accuracy: 0.7143\n",
            "Epoch 20/100\n",
            "3/3 [==============================] - 0s 13ms/step - loss: 0.5433 - accuracy: 0.8095 - val_loss: 0.6475 - val_accuracy: 0.7143\n",
            "Epoch 21/100\n",
            "3/3 [==============================] - 0s 15ms/step - loss: 0.5418 - accuracy: 0.8095 - val_loss: 0.6489 - val_accuracy: 0.7143\n",
            "Epoch 22/100\n",
            "3/3 [==============================] - 0s 13ms/step - loss: 0.5402 - accuracy: 0.8095 - val_loss: 0.6486 - val_accuracy: 0.7143\n",
            "Epoch 23/100\n",
            "3/3 [==============================] - 0s 13ms/step - loss: 0.5384 - accuracy: 0.8095 - val_loss: 0.6463 - val_accuracy: 0.7143\n",
            "Epoch 24/100\n",
            "3/3 [==============================] - 0s 13ms/step - loss: 0.5366 - accuracy: 0.8095 - val_loss: 0.6438 - val_accuracy: 0.7143\n",
            "Epoch 25/100\n",
            "3/3 [==============================] - 0s 18ms/step - loss: 0.5348 - accuracy: 0.8095 - val_loss: 0.6415 - val_accuracy: 0.7143\n",
            "Epoch 26/100\n",
            "3/3 [==============================] - 0s 24ms/step - loss: 0.5328 - accuracy: 0.8095 - val_loss: 0.6403 - val_accuracy: 0.7143\n",
            "Epoch 27/100\n",
            "3/3 [==============================] - 0s 17ms/step - loss: 0.5314 - accuracy: 0.8095 - val_loss: 0.6401 - val_accuracy: 0.7143\n",
            "Epoch 28/100\n",
            "3/3 [==============================] - 0s 15ms/step - loss: 0.5292 - accuracy: 0.8095 - val_loss: 0.6387 - val_accuracy: 0.7143\n",
            "Epoch 29/100\n",
            "3/3 [==============================] - 0s 16ms/step - loss: 0.5274 - accuracy: 0.8095 - val_loss: 0.6373 - val_accuracy: 0.7143\n",
            "Epoch 30/100\n",
            "3/3 [==============================] - 0s 16ms/step - loss: 0.5255 - accuracy: 0.8095 - val_loss: 0.6349 - val_accuracy: 0.7143\n",
            "Epoch 31/100\n",
            "3/3 [==============================] - 0s 16ms/step - loss: 0.5235 - accuracy: 0.8095 - val_loss: 0.6322 - val_accuracy: 0.7143\n",
            "Epoch 32/100\n",
            "3/3 [==============================] - 0s 18ms/step - loss: 0.5218 - accuracy: 0.8095 - val_loss: 0.6303 - val_accuracy: 0.7143\n",
            "Epoch 33/100\n",
            "3/3 [==============================] - 0s 22ms/step - loss: 0.5200 - accuracy: 0.8095 - val_loss: 0.6298 - val_accuracy: 0.7143\n",
            "Epoch 34/100\n",
            "3/3 [==============================] - 0s 28ms/step - loss: 0.5183 - accuracy: 0.8095 - val_loss: 0.6275 - val_accuracy: 0.7143\n",
            "Epoch 35/100\n",
            "3/3 [==============================] - 0s 17ms/step - loss: 0.5161 - accuracy: 0.8095 - val_loss: 0.6270 - val_accuracy: 0.7143\n",
            "Epoch 36/100\n",
            "3/3 [==============================] - 0s 24ms/step - loss: 0.5144 - accuracy: 0.8095 - val_loss: 0.6253 - val_accuracy: 0.7143\n",
            "Epoch 37/100\n",
            "3/3 [==============================] - 0s 17ms/step - loss: 0.5123 - accuracy: 0.8095 - val_loss: 0.6246 - val_accuracy: 0.7143\n",
            "Epoch 38/100\n",
            "3/3 [==============================] - 0s 20ms/step - loss: 0.5104 - accuracy: 0.8095 - val_loss: 0.6242 - val_accuracy: 0.7143\n",
            "Epoch 39/100\n",
            "3/3 [==============================] - 0s 18ms/step - loss: 0.5088 - accuracy: 0.8095 - val_loss: 0.6235 - val_accuracy: 0.7143\n",
            "Epoch 40/100\n",
            "3/3 [==============================] - 0s 18ms/step - loss: 0.5073 - accuracy: 0.8095 - val_loss: 0.6246 - val_accuracy: 0.7143\n",
            "Epoch 41/100\n",
            "3/3 [==============================] - 0s 25ms/step - loss: 0.5057 - accuracy: 0.8095 - val_loss: 0.6247 - val_accuracy: 0.7143\n",
            "Epoch 42/100\n",
            "3/3 [==============================] - 0s 21ms/step - loss: 0.5035 - accuracy: 0.8095 - val_loss: 0.6217 - val_accuracy: 0.7143\n",
            "Epoch 43/100\n",
            "3/3 [==============================] - 0s 19ms/step - loss: 0.5014 - accuracy: 0.8095 - val_loss: 0.6188 - val_accuracy: 0.7143\n",
            "Epoch 44/100\n",
            "3/3 [==============================] - 0s 24ms/step - loss: 0.4994 - accuracy: 0.8095 - val_loss: 0.6159 - val_accuracy: 0.7143\n",
            "Epoch 45/100\n",
            "3/3 [==============================] - 0s 21ms/step - loss: 0.4985 - accuracy: 0.8095 - val_loss: 0.6125 - val_accuracy: 0.7143\n",
            "Epoch 46/100\n",
            "3/3 [==============================] - 0s 16ms/step - loss: 0.4960 - accuracy: 0.8095 - val_loss: 0.6114 - val_accuracy: 0.7143\n",
            "Epoch 47/100\n",
            "3/3 [==============================] - 0s 24ms/step - loss: 0.4941 - accuracy: 0.8095 - val_loss: 0.6115 - val_accuracy: 0.7143\n",
            "Epoch 48/100\n",
            "3/3 [==============================] - 0s 27ms/step - loss: 0.4922 - accuracy: 0.8095 - val_loss: 0.6123 - val_accuracy: 0.7143\n",
            "Epoch 49/100\n",
            "3/3 [==============================] - 0s 16ms/step - loss: 0.4912 - accuracy: 0.8095 - val_loss: 0.6125 - val_accuracy: 0.7143\n",
            "Epoch 50/100\n",
            "3/3 [==============================] - 0s 14ms/step - loss: 0.4899 - accuracy: 0.8095 - val_loss: 0.6125 - val_accuracy: 0.7143\n",
            "Epoch 51/100\n",
            "3/3 [==============================] - 0s 30ms/step - loss: 0.4873 - accuracy: 0.8095 - val_loss: 0.6083 - val_accuracy: 0.7143\n",
            "Epoch 52/100\n",
            "3/3 [==============================] - 0s 31ms/step - loss: 0.4857 - accuracy: 0.8095 - val_loss: 0.6046 - val_accuracy: 0.7143\n",
            "Epoch 53/100\n",
            "3/3 [==============================] - 0s 19ms/step - loss: 0.4839 - accuracy: 0.8095 - val_loss: 0.6022 - val_accuracy: 0.7143\n",
            "Epoch 54/100\n",
            "3/3 [==============================] - 0s 26ms/step - loss: 0.4822 - accuracy: 0.8095 - val_loss: 0.6002 - val_accuracy: 0.7143\n",
            "Epoch 55/100\n",
            "3/3 [==============================] - 0s 27ms/step - loss: 0.4811 - accuracy: 0.8095 - val_loss: 0.5980 - val_accuracy: 0.7143\n",
            "Epoch 56/100\n",
            "3/3 [==============================] - 0s 18ms/step - loss: 0.4788 - accuracy: 0.8095 - val_loss: 0.5941 - val_accuracy: 0.7143\n",
            "Epoch 57/100\n",
            "3/3 [==============================] - 0s 18ms/step - loss: 0.4777 - accuracy: 0.8095 - val_loss: 0.5907 - val_accuracy: 0.7143\n",
            "Epoch 58/100\n",
            "3/3 [==============================] - 0s 17ms/step - loss: 0.4773 - accuracy: 0.8095 - val_loss: 0.5885 - val_accuracy: 0.7143\n",
            "Epoch 59/100\n",
            "3/3 [==============================] - 0s 27ms/step - loss: 0.4760 - accuracy: 0.8095 - val_loss: 0.5885 - val_accuracy: 0.7143\n",
            "Epoch 60/100\n",
            "3/3 [==============================] - 0s 30ms/step - loss: 0.4741 - accuracy: 0.8095 - val_loss: 0.5880 - val_accuracy: 0.7143\n",
            "Epoch 61/100\n",
            "3/3 [==============================] - 0s 21ms/step - loss: 0.4723 - accuracy: 0.8095 - val_loss: 0.5880 - val_accuracy: 0.7143\n",
            "Epoch 62/100\n",
            "3/3 [==============================] - 0s 20ms/step - loss: 0.4706 - accuracy: 0.8095 - val_loss: 0.5888 - val_accuracy: 0.7143\n",
            "Epoch 63/100\n",
            "3/3 [==============================] - 0s 18ms/step - loss: 0.4693 - accuracy: 0.8095 - val_loss: 0.5901 - val_accuracy: 0.7143\n",
            "Epoch 64/100\n",
            "3/3 [==============================] - 0s 31ms/step - loss: 0.4677 - accuracy: 0.8095 - val_loss: 0.5907 - val_accuracy: 0.7143\n",
            "Epoch 65/100\n",
            "3/3 [==============================] - 0s 17ms/step - loss: 0.4666 - accuracy: 0.8095 - val_loss: 0.5912 - val_accuracy: 0.7143\n",
            "Epoch 66/100\n",
            "3/3 [==============================] - 0s 19ms/step - loss: 0.4652 - accuracy: 0.8095 - val_loss: 0.5929 - val_accuracy: 0.7143\n",
            "Epoch 67/100\n",
            "3/3 [==============================] - 0s 18ms/step - loss: 0.4647 - accuracy: 0.8095 - val_loss: 0.5937 - val_accuracy: 0.7143\n",
            "Epoch 68/100\n",
            "3/3 [==============================] - 0s 28ms/step - loss: 0.4633 - accuracy: 0.8095 - val_loss: 0.5902 - val_accuracy: 0.7143\n",
            "Epoch 69/100\n",
            "3/3 [==============================] - 0s 25ms/step - loss: 0.4625 - accuracy: 0.8095 - val_loss: 0.5869 - val_accuracy: 0.7143\n",
            "Epoch 70/100\n",
            "3/3 [==============================] - 0s 20ms/step - loss: 0.4607 - accuracy: 0.8095 - val_loss: 0.5837 - val_accuracy: 0.7143\n",
            "Epoch 71/100\n",
            "3/3 [==============================] - 0s 15ms/step - loss: 0.4601 - accuracy: 0.8095 - val_loss: 0.5827 - val_accuracy: 0.7143\n",
            "Epoch 72/100\n",
            "3/3 [==============================] - 0s 14ms/step - loss: 0.4596 - accuracy: 0.8095 - val_loss: 0.5792 - val_accuracy: 0.7143\n",
            "Epoch 73/100\n",
            "3/3 [==============================] - 0s 14ms/step - loss: 0.4587 - accuracy: 0.8095 - val_loss: 0.5779 - val_accuracy: 0.7143\n",
            "Epoch 74/100\n",
            "3/3 [==============================] - 0s 15ms/step - loss: 0.4581 - accuracy: 0.8095 - val_loss: 0.5769 - val_accuracy: 0.7143\n",
            "Epoch 75/100\n",
            "3/3 [==============================] - 0s 23ms/step - loss: 0.4569 - accuracy: 0.8095 - val_loss: 0.5782 - val_accuracy: 0.7143\n",
            "Epoch 76/100\n",
            "3/3 [==============================] - 0s 22ms/step - loss: 0.4560 - accuracy: 0.8095 - val_loss: 0.5784 - val_accuracy: 0.7143\n",
            "Epoch 77/100\n",
            "3/3 [==============================] - 0s 17ms/step - loss: 0.4545 - accuracy: 0.8095 - val_loss: 0.5804 - val_accuracy: 0.7143\n",
            "Epoch 78/100\n",
            "3/3 [==============================] - 0s 22ms/step - loss: 0.4537 - accuracy: 0.8095 - val_loss: 0.5833 - val_accuracy: 0.7143\n",
            "Epoch 79/100\n",
            "3/3 [==============================] - 0s 16ms/step - loss: 0.4549 - accuracy: 0.8095 - val_loss: 0.5887 - val_accuracy: 0.7143\n",
            "Epoch 80/100\n",
            "3/3 [==============================] - 0s 16ms/step - loss: 0.4538 - accuracy: 0.8095 - val_loss: 0.5884 - val_accuracy: 0.7143\n",
            "Epoch 81/100\n",
            "3/3 [==============================] - 0s 16ms/step - loss: 0.4542 - accuracy: 0.8095 - val_loss: 0.5878 - val_accuracy: 0.7143\n",
            "Epoch 82/100\n",
            "3/3 [==============================] - 0s 18ms/step - loss: 0.4518 - accuracy: 0.8095 - val_loss: 0.5822 - val_accuracy: 0.7143\n",
            "Epoch 83/100\n",
            "3/3 [==============================] - 0s 22ms/step - loss: 0.4507 - accuracy: 0.8095 - val_loss: 0.5787 - val_accuracy: 0.7143\n",
            "Epoch 84/100\n",
            "3/3 [==============================] - 0s 26ms/step - loss: 0.4501 - accuracy: 0.8095 - val_loss: 0.5752 - val_accuracy: 0.7143\n",
            "Epoch 85/100\n",
            "3/3 [==============================] - 0s 17ms/step - loss: 0.4500 - accuracy: 0.8095 - val_loss: 0.5719 - val_accuracy: 0.7143\n",
            "Epoch 86/100\n",
            "3/3 [==============================] - 0s 18ms/step - loss: 0.4506 - accuracy: 0.8095 - val_loss: 0.5699 - val_accuracy: 0.7143\n",
            "Epoch 87/100\n",
            "3/3 [==============================] - 0s 24ms/step - loss: 0.4496 - accuracy: 0.8095 - val_loss: 0.5719 - val_accuracy: 0.7143\n",
            "Epoch 88/100\n",
            "3/3 [==============================] - 0s 21ms/step - loss: 0.4495 - accuracy: 0.8095 - val_loss: 0.5755 - val_accuracy: 0.7143\n",
            "Epoch 89/100\n",
            "3/3 [==============================] - 0s 25ms/step - loss: 0.4480 - accuracy: 0.8095 - val_loss: 0.5751 - val_accuracy: 0.7143\n",
            "Epoch 90/100\n",
            "3/3 [==============================] - 0s 24ms/step - loss: 0.4481 - accuracy: 0.8095 - val_loss: 0.5765 - val_accuracy: 0.7143\n",
            "Epoch 91/100\n",
            "3/3 [==============================] - 0s 19ms/step - loss: 0.4472 - accuracy: 0.8095 - val_loss: 0.5750 - val_accuracy: 0.7143\n",
            "Epoch 92/100\n",
            "3/3 [==============================] - 0s 12ms/step - loss: 0.4468 - accuracy: 0.8095 - val_loss: 0.5740 - val_accuracy: 0.7143\n",
            "Epoch 93/100\n",
            "3/3 [==============================] - 0s 12ms/step - loss: 0.4463 - accuracy: 0.8095 - val_loss: 0.5739 - val_accuracy: 0.7143\n",
            "Epoch 94/100\n",
            "3/3 [==============================] - 0s 12ms/step - loss: 0.4460 - accuracy: 0.8095 - val_loss: 0.5736 - val_accuracy: 0.7143\n",
            "Epoch 95/100\n",
            "3/3 [==============================] - 0s 17ms/step - loss: 0.4457 - accuracy: 0.8095 - val_loss: 0.5726 - val_accuracy: 0.7143\n",
            "Epoch 96/100\n",
            "3/3 [==============================] - 0s 13ms/step - loss: 0.4454 - accuracy: 0.8095 - val_loss: 0.5716 - val_accuracy: 0.7143\n",
            "Epoch 97/100\n",
            "3/3 [==============================] - 0s 12ms/step - loss: 0.4454 - accuracy: 0.8095 - val_loss: 0.5727 - val_accuracy: 0.7143\n",
            "Epoch 98/100\n",
            "3/3 [==============================] - 0s 12ms/step - loss: 0.4454 - accuracy: 0.8095 - val_loss: 0.5732 - val_accuracy: 0.7143\n",
            "Epoch 99/100\n",
            "3/3 [==============================] - 0s 15ms/step - loss: 0.4449 - accuracy: 0.8095 - val_loss: 0.5698 - val_accuracy: 0.7143\n",
            "Epoch 100/100\n",
            "3/3 [==============================] - 0s 14ms/step - loss: 0.4444 - accuracy: 0.8095 - val_loss: 0.5690 - val_accuracy: 0.7143\n"
          ]
        }
      ],
      "source": [
        "hist1=model1.fit(x=X1_train,y=y_train,validation_data=(X1_test,y_test),epochs=100)"
      ]
    },
    {
      "cell_type": "code",
      "execution_count": 139,
      "metadata": {
        "colab": {
          "base_uri": "https://localhost:8080/"
        },
        "id": "EW-h250-nO1t",
        "outputId": "a3d35f0e-929a-44f7-a9cf-8822b1d48451"
      },
      "outputs": [
        {
          "name": "stdout",
          "output_type": "stream",
          "text": [
            "1/1 [==============================] - 0s 50ms/step - loss: 0.5690 - accuracy: 0.7143\n"
          ]
        },
        {
          "data": {
            "text/plain": [
              "[0.5690123438835144, 0.7142857313156128]"
            ]
          },
          "execution_count": 139,
          "metadata": {},
          "output_type": "execute_result"
        }
      ],
      "source": [
        "model1.evaluate(X1_test,y_test)"
      ]
    },
    {
      "cell_type": "markdown",
      "metadata": {
        "id": "XLTJeb4tq61g"
      },
      "source": [
        "## Apparently model1 is performing with 71% accuracy, but let's not forget that the classes in the target varieble are imbalanced 70% of them have false and 30% have true. That being said let's move onto building an NLP model for the prediction."
      ]
    },
    {
      "cell_type": "markdown",
      "metadata": {
        "id": "Fc4mUPoJrdwY"
      },
      "source": [
        "## This next model will be predicting the click meeting link varieble using the subject of the email."
      ]
    },
    {
      "cell_type": "code",
      "execution_count": 198,
      "metadata": {
        "id": "zRp8z8P9r0ug"
      },
      "outputs": [],
      "source": [
        "text_vectorizer=tf.keras.layers.TextVectorization(max_tokens=24000,\n",
        "                                                     standardize=\"lower_and_strip_punctuation\",\n",
        "                                                     split=\"whitespace\",\n",
        "\n",
        "                                                     )"
      ]
    },
    {
      "cell_type": "code",
      "execution_count": 199,
      "metadata": {
        "id": "3W3mfWjwsMaQ"
      },
      "outputs": [],
      "source": [
        "text_vectorizer.adapt(X2_train)"
      ]
    },
    {
      "cell_type": "code",
      "execution_count": 200,
      "metadata": {
        "id": "gibqg6CDsf6T"
      },
      "outputs": [],
      "source": [
        "embedding=tf.keras.layers.Embedding(input_dim=24000,\n",
        "                                    output_dim=32,\n",
        "                                    )"
      ]
    },
    {
      "cell_type": "code",
      "execution_count": 201,
      "metadata": {
        "id": "dz84yMMbq4xM"
      },
      "outputs": [],
      "source": [
        "inputs=tf.keras.layers.Input(shape=(1,),dtype=tf.string)\n",
        "x=text_vectorizer(inputs)\n",
        "x=embedding(x)\n",
        "x=tf.keras.layers.Conv1D(32,5,1,\"same\")(x)\n",
        "x=tf.keras.layers.MaxPooling1D(2,1)(x)\n",
        "x=tf.keras.layers.Conv1D(32,5,1,\"same\")(x)\n",
        "x=tf.keras.layers.MaxPooling1D(2,1)(x)\n",
        "x = tf.keras.layers.GlobalMaxPooling1D()(x)\n",
        "outputs=tf.keras.layers.Dense(1,activation=\"sigmoid\")(x)\n",
        "model2=tf.keras.Model(inputs,outputs)"
      ]
    },
    {
      "cell_type": "code",
      "execution_count": 202,
      "metadata": {
        "id": "Aoe3bHD-trfJ"
      },
      "outputs": [],
      "source": [
        "model2.compile(optimizer=\"adam\",loss=tf.keras.losses.BinaryCrossentropy(),metrics=['accuracy'])"
      ]
    },
    {
      "cell_type": "code",
      "execution_count": 203,
      "metadata": {
        "colab": {
          "base_uri": "https://localhost:8080/"
        },
        "id": "MNA3x517uhGm",
        "outputId": "e040fb3d-d3eb-4ec5-b9a0-e95ceb10ded4"
      },
      "outputs": [
        {
          "name": "stdout",
          "output_type": "stream",
          "text": [
            "Epoch 1/10\n",
            "3/3 [==============================] - 1s 89ms/step - loss: 0.6846 - accuracy: 0.6190 - val_loss: 0.6623 - val_accuracy: 0.7143\n",
            "Epoch 2/10\n",
            "3/3 [==============================] - 0s 18ms/step - loss: 0.6387 - accuracy: 0.8095 - val_loss: 0.6342 - val_accuracy: 0.7143\n",
            "Epoch 3/10\n",
            "3/3 [==============================] - 0s 21ms/step - loss: 0.5975 - accuracy: 0.8095 - val_loss: 0.6086 - val_accuracy: 0.7143\n",
            "Epoch 4/10\n",
            "3/3 [==============================] - 0s 17ms/step - loss: 0.5501 - accuracy: 0.8095 - val_loss: 0.5853 - val_accuracy: 0.7143\n",
            "Epoch 5/10\n",
            "3/3 [==============================] - 0s 18ms/step - loss: 0.5105 - accuracy: 0.8095 - val_loss: 0.5680 - val_accuracy: 0.7143\n",
            "Epoch 6/10\n",
            "3/3 [==============================] - 0s 18ms/step - loss: 0.4682 - accuracy: 0.8095 - val_loss: 0.5627 - val_accuracy: 0.7143\n",
            "Epoch 7/10\n",
            "3/3 [==============================] - 0s 17ms/step - loss: 0.4345 - accuracy: 0.8095 - val_loss: 0.5712 - val_accuracy: 0.7143\n",
            "Epoch 8/10\n",
            "3/3 [==============================] - 0s 19ms/step - loss: 0.4185 - accuracy: 0.8095 - val_loss: 0.5898 - val_accuracy: 0.7143\n",
            "Epoch 9/10\n",
            "3/3 [==============================] - 0s 19ms/step - loss: 0.4032 - accuracy: 0.8095 - val_loss: 0.6070 - val_accuracy: 0.7143\n",
            "Epoch 10/10\n",
            "3/3 [==============================] - 0s 17ms/step - loss: 0.3829 - accuracy: 0.8095 - val_loss: 0.6168 - val_accuracy: 0.7143\n"
          ]
        }
      ],
      "source": [
        "hist2=model2.fit(x=X2_train,y=y_train,validation_data=(X2_test,y_test),epochs=10,batch_size=32)"
      ]
    },
    {
      "cell_type": "code",
      "execution_count": 204,
      "metadata": {
        "colab": {
          "base_uri": "https://localhost:8080/"
        },
        "id": "GK5A0o9mu0lA",
        "outputId": "3e738c2c-e928-4595-b2e1-f3daf321232b"
      },
      "outputs": [
        {
          "name": "stdout",
          "output_type": "stream",
          "text": [
            "1/1 [==============================] - 0s 25ms/step - loss: 0.6168 - accuracy: 0.7143\n"
          ]
        },
        {
          "data": {
            "text/plain": [
              "[0.6168459057807922, 0.7142857313156128]"
            ]
          },
          "execution_count": 204,
          "metadata": {},
          "output_type": "execute_result"
        }
      ],
      "source": [
        "model2.evaluate(X2_test,y_test)"
      ]
    },
    {
      "cell_type": "markdown",
      "metadata": {
        "id": "GCa0pd47w7IY"
      },
      "source": [
        "## We are again getting the same accuracy, I think the class imbalance problem in the click meeting link variable is significant."
      ]
    },
    {
      "cell_type": "markdown",
      "metadata": {
        "id": "eHjxDe-jxSX3"
      },
      "source": [
        "## Now the final individual model where we use body of the email to predict the click meeting varieble."
      ]
    },
    {
      "cell_type": "code",
      "execution_count": 205,
      "metadata": {
        "id": "A1EAPI6Hw5LW"
      },
      "outputs": [],
      "source": [
        "text_vectorizer2=tf.keras.layers.TextVectorization(max_tokens=24000,\n",
        "                                                     standardize=\"lower_and_strip_punctuation\",\n",
        "                                                     split=\"whitespace\",\n",
        "\n",
        "                                                     )"
      ]
    },
    {
      "cell_type": "code",
      "execution_count": 206,
      "metadata": {
        "id": "pCx1_eJvxhvz"
      },
      "outputs": [],
      "source": [
        "text_vectorizer2.adapt(X3_train)"
      ]
    },
    {
      "cell_type": "code",
      "execution_count": 196,
      "metadata": {
        "id": "oSMSR-tYxkn3"
      },
      "outputs": [],
      "source": [
        "embedding2=tf.keras.layers.Embedding(input_dim=24000,\n",
        "                                    output_dim=32,\n",
        "                                    )"
      ]
    },
    {
      "cell_type": "code",
      "execution_count": 207,
      "metadata": {
        "id": "3yyQ8KX_xmsZ"
      },
      "outputs": [],
      "source": [
        "inputs=tf.keras.layers.Input(shape=(1,),dtype=tf.string)\n",
        "x=text_vectorizer2(inputs)\n",
        "x=embedding2(x)\n",
        "x=tf.keras.layers.Conv1D(32,5,1,\"same\")(x)\n",
        "x=tf.keras.layers.MaxPooling1D(2,1)(x)\n",
        "x=tf.keras.layers.Conv1D(32,5,1,\"same\")(x)\n",
        "x=tf.keras.layers.MaxPooling1D(2,1)(x)\n",
        "x = tf.keras.layers.GlobalMaxPooling1D()(x)\n",
        "outputs=tf.keras.layers.Dense(1,activation=\"sigmoid\")(x)\n",
        "model3=tf.keras.Model(inputs,outputs)"
      ]
    },
    {
      "cell_type": "code",
      "execution_count": 208,
      "metadata": {
        "id": "FZh30Qayx932"
      },
      "outputs": [],
      "source": [
        "model3.compile(optimizer=\"adam\",loss=tf.keras.losses.BinaryCrossentropy(),metrics=['accuracy'])"
      ]
    },
    {
      "cell_type": "code",
      "execution_count": 209,
      "metadata": {
        "colab": {
          "base_uri": "https://localhost:8080/"
        },
        "id": "ovoea2nzyA33",
        "outputId": "db650e88-30bf-4573-fcfc-961ddaa17b13"
      },
      "outputs": [
        {
          "name": "stdout",
          "output_type": "stream",
          "text": [
            "Epoch 1/10\n",
            "3/3 [==============================] - 1s 158ms/step - loss: 0.6752 - accuracy: 0.7738 - val_loss: 0.6605 - val_accuracy: 0.7143\n",
            "Epoch 2/10\n",
            "3/3 [==============================] - 0s 33ms/step - loss: 0.6356 - accuracy: 0.8095 - val_loss: 0.6331 - val_accuracy: 0.7143\n",
            "Epoch 3/10\n",
            "3/3 [==============================] - 0s 33ms/step - loss: 0.5919 - accuracy: 0.8095 - val_loss: 0.6070 - val_accuracy: 0.7143\n",
            "Epoch 4/10\n",
            "3/3 [==============================] - 0s 20ms/step - loss: 0.5495 - accuracy: 0.8095 - val_loss: 0.5826 - val_accuracy: 0.7143\n",
            "Epoch 5/10\n",
            "3/3 [==============================] - 0s 19ms/step - loss: 0.5075 - accuracy: 0.8095 - val_loss: 0.5653 - val_accuracy: 0.7143\n",
            "Epoch 6/10\n",
            "3/3 [==============================] - 0s 21ms/step - loss: 0.4780 - accuracy: 0.8095 - val_loss: 0.5598 - val_accuracy: 0.7143\n",
            "Epoch 7/10\n",
            "3/3 [==============================] - 0s 18ms/step - loss: 0.4456 - accuracy: 0.8095 - val_loss: 0.5712 - val_accuracy: 0.7143\n",
            "Epoch 8/10\n",
            "3/3 [==============================] - 0s 19ms/step - loss: 0.4355 - accuracy: 0.8095 - val_loss: 0.5936 - val_accuracy: 0.7143\n",
            "Epoch 9/10\n",
            "3/3 [==============================] - 0s 20ms/step - loss: 0.4359 - accuracy: 0.8095 - val_loss: 0.6088 - val_accuracy: 0.7143\n",
            "Epoch 10/10\n",
            "3/3 [==============================] - 0s 18ms/step - loss: 0.4313 - accuracy: 0.8095 - val_loss: 0.6104 - val_accuracy: 0.7143\n"
          ]
        }
      ],
      "source": [
        "hist3=model3.fit(x=X2_train,y=y_train,validation_data=(X2_test,y_test),epochs=10,batch_size=32)"
      ]
    },
    {
      "cell_type": "code",
      "execution_count": 210,
      "metadata": {
        "colab": {
          "base_uri": "https://localhost:8080/"
        },
        "id": "3I7Gf6rvyEw-",
        "outputId": "0d0e7ef0-f5be-4ab5-a54c-5177c9eef2cd"
      },
      "outputs": [
        {
          "name": "stdout",
          "output_type": "stream",
          "text": [
            "1/1 [==============================] - 0s 76ms/step - loss: 0.6406 - accuracy: 0.7143\n"
          ]
        },
        {
          "data": {
            "text/plain": [
              "[0.6405653357505798, 0.7142857313156128]"
            ]
          },
          "execution_count": 210,
          "metadata": {},
          "output_type": "execute_result"
        }
      ],
      "source": [
        "  model3.evaluate(X3_test,y_test)"
      ]
    },
    {
      "cell_type": "markdown",
      "metadata": {
        "id": "it15ZVciy91p"
      },
      "source": [
        "## Now let's create an ensemble model to make predictions. This model is an ensemble of all the above 3 models."
      ]
    },
    {
      "cell_type": "code",
      "execution_count": 211,
      "metadata": {
        "id": "V4E8tlKNy4Vf"
      },
      "outputs": [],
      "source": [
        "inputs1=tf.keras.layers.Input(shape=(2,))\n",
        "x=tf.keras.layers.Dense(32,activation='relu')(inputs1)\n",
        "x=tf.keras.layers.Dense(32,activation='relu')(x)\n",
        "x=tf.keras.layers.Dense(32,activation='relu')(x)\n",
        "outputs1=tf.keras.layers.Dense(1,activation=\"sigmoid\")(x)\n",
        "model1=tf.keras.Model(inputs1,outputs1)\n",
        "\n",
        "inputs2=tf.keras.layers.Input(shape=(1,),dtype=tf.string)\n",
        "x=text_vectorizer(inputs2)\n",
        "x=embedding(x)\n",
        "x=tf.keras.layers.Conv1D(32,5,1,\"same\")(x)\n",
        "x=tf.keras.layers.MaxPooling1D(2,1)(x)\n",
        "x=tf.keras.layers.Conv1D(32,5,1,\"same\")(x)\n",
        "x=tf.keras.layers.MaxPooling1D(2,1)(x)\n",
        "x = tf.keras.layers.GlobalMaxPooling1D()(x)\n",
        "outputs2=tf.keras.layers.Dense(1,activation=\"sigmoid\")(x)\n",
        "model2=tf.keras.Model(inputs2,outputs2)\n",
        "\n",
        "inputs3=tf.keras.layers.Input(shape=(1,),dtype=tf.string)\n",
        "x=text_vectorizer2(inputs3)\n",
        "x=embedding2(x)\n",
        "x=tf.keras.layers.Conv1D(32,5,1,\"same\")(x)\n",
        "x=tf.keras.layers.MaxPooling1D(2,1)(x)\n",
        "x=tf.keras.layers.Conv1D(32,5,1,\"same\")(x)\n",
        "x=tf.keras.layers.MaxPooling1D(2,1)(x)\n",
        "x = tf.keras.layers.GlobalMaxPooling1D()(x)\n",
        "outputs3=tf.keras.layers.Dense(1,activation=\"sigmoid\")(x)\n",
        "model3=tf.keras.Model(inputs3,outputs3)\n",
        "\n",
        "concatenated_outputs=tf.keras.layers.Concatenate()([model1.output,model2.output,model3.output])\n",
        "final_outputs=tf.keras.layers.Dense(1,activation=\"sigmoid\")(concatenated_outputs)\n",
        "ensemble_model=tf.keras.Model([model1.inputs,model2.inputs,model3.inputs],final_outputs)\n"
      ]
    },
    {
      "cell_type": "code",
      "execution_count": 212,
      "metadata": {
        "id": "drYEPZkG0Pxm"
      },
      "outputs": [],
      "source": [
        "ensemble_model.compile(optimizer=\"adam\",loss=tf.keras.losses.BinaryCrossentropy(),metrics=['accuracy'])"
      ]
    },
    {
      "cell_type": "code",
      "execution_count": 216,
      "metadata": {
        "colab": {
          "base_uri": "https://localhost:8080/"
        },
        "id": "6da8dyBj0gRZ",
        "outputId": "d9e8590d-0998-468a-88f2-b2a227ebdef7"
      },
      "outputs": [
        {
          "name": "stdout",
          "output_type": "stream",
          "text": [
            "Epoch 1/5\n",
            "3/3 [==============================] - 0s 43ms/step - loss: 0.4875 - accuracy: 0.8095 - val_loss: 0.5940 - val_accuracy: 0.7143\n",
            "Epoch 2/5\n",
            "3/3 [==============================] - 0s 29ms/step - loss: 0.4847 - accuracy: 0.8095 - val_loss: 0.5950 - val_accuracy: 0.7143\n",
            "Epoch 3/5\n",
            "3/3 [==============================] - 0s 28ms/step - loss: 0.4827 - accuracy: 0.8095 - val_loss: 0.5958 - val_accuracy: 0.7143\n",
            "Epoch 4/5\n",
            "3/3 [==============================] - 0s 27ms/step - loss: 0.4746 - accuracy: 0.8095 - val_loss: 0.5962 - val_accuracy: 0.7143\n",
            "Epoch 5/5\n",
            "3/3 [==============================] - 0s 27ms/step - loss: 0.4727 - accuracy: 0.8095 - val_loss: 0.5963 - val_accuracy: 0.7143\n"
          ]
        }
      ],
      "source": [
        "hist4=ensemble_model.fit(x=[X1_train,X2_train,X3_train],y=y_train,validation_data=([X1_test,X2_test,X3_test],y_test),epochs=5,batch_size=32)"
      ]
    },
    {
      "cell_type": "code",
      "execution_count": 217,
      "metadata": {
        "colab": {
          "base_uri": "https://localhost:8080/",
          "height": 1000
        },
        "id": "GytW6IQX1N85",
        "outputId": "c04304b5-0d10-4f56-d09f-4c1b5760a6a0"
      },
      "outputs": [
        {
          "data": {
            "image/png": "[encoded data removed]",
            "text/plain": [
              "<IPython.core.display.Image object>"
            ]
          },
          "execution_count": 217,
          "metadata": {},
          "output_type": "execute_result"
        }
      ],
      "source": [
        "from tensorflow.keras.utils import plot_model\n",
        "\n",
        "plot_model(ensemble_model)"
      ]
    },
    {
      "cell_type": "markdown",
      "metadata": {
        "id": "iLq1p3MO151k"
      },
      "source": [
        "## We completed building the ensemble model. Currently due to the imbalance in the target varieble column, all models are performing with the same accuracy of about 71%. But we can say with certainity that if we manage to collect more data and balance the clicked meeting link column, the ensemble model created and plotted above will be the highest peroforming model, since all the other are concatenated to maximize the power of prediction."
      ]
    },
    {
      "cell_type": "markdown",
      "metadata": {
        "id": "RudYDbBi2lg-"
      },
      "source": [
        "# Model Evaluation\n",
        "\n",
        "## Lets evaluate our ensemble model and check how well it is performing the classification task."
      ]
    },
    {
      "cell_type": "code",
      "execution_count": 237,
      "metadata": {
        "colab": {
          "base_uri": "https://localhost:8080/"
        },
        "id": "aPzqYb-w28JS",
        "outputId": "c26709bd-3ab3-4e02-e765-b62d00416907"
      },
      "outputs": [
        {
          "name": "stdout",
          "output_type": "stream",
          "text": [
            "1/1 [==============================] - 0s 19ms/step\n"
          ]
        }
      ],
      "source": [
        "predictions=ensemble_model.predict([X1_test,X2_test,X3_test])"
      ]
    },
    {
      "cell_type": "code",
      "execution_count": 241,
      "metadata": {
        "id": "CiNsNPj446yb"
      },
      "outputs": [],
      "source": [
        "predictions=np.round(predictions)"
      ]
    },
    {
      "cell_type": "code",
      "execution_count": 243,
      "metadata": {
        "colab": {
          "base_uri": "https://localhost:8080/"
        },
        "id": "HcGV4oVt1uh-",
        "outputId": "06c11c4a-30ff-4af0-eaf3-141524070ce1"
      },
      "outputs": [
        {
          "name": "stderr",
          "output_type": "stream",
          "text": [
            "/usr/local/lib/python3.10/dist-packages/sklearn/metrics/_classification.py:1344: UndefinedMetricWarning: Precision and F-score are ill-defined and being set to 0.0 in labels with no predicted samples. Use `zero_division` parameter to control this behavior.\n",
            "  _warn_prf(average, modifier, msg_start, len(result))\n",
            "/usr/local/lib/python3.10/dist-packages/sklearn/metrics/_classification.py:1344: UndefinedMetricWarning: Precision and F-score are ill-defined and being set to 0.0 in labels with no predicted samples. Use `zero_division` parameter to control this behavior.\n",
            "  _warn_prf(average, modifier, msg_start, len(result))\n",
            "/usr/local/lib/python3.10/dist-packages/sklearn/metrics/_classification.py:1344: UndefinedMetricWarning: Precision and F-score are ill-defined and being set to 0.0 in labels with no predicted samples. Use `zero_division` parameter to control this behavior.\n",
            "  _warn_prf(average, modifier, msg_start, len(result))\n"
          ]
        }
      ],
      "source": [
        "from sklearn.metrics import classification_report\n",
        "cr=classification_report(y_test,predictions)"
      ]
    },
    {
      "cell_type": "code",
      "execution_count": 244,
      "metadata": {
        "colab": {
          "base_uri": "https://localhost:8080/"
        },
        "id": "_njOr_RT3LMy",
        "outputId": "c1b5b33a-771b-412f-e02a-bf9992e44c51"
      },
      "outputs": [
        {
          "name": "stdout",
          "output_type": "stream",
          "text": [
            "              precision    recall  f1-score   support\n",
            "\n",
            "         0.0       0.71      1.00      0.83        15\n",
            "         1.0       0.00      0.00      0.00         6\n",
            "\n",
            "    accuracy                           0.71        21\n",
            "   macro avg       0.36      0.50      0.42        21\n",
            "weighted avg       0.51      0.71      0.60        21\n",
            "\n"
          ]
        }
      ],
      "source": [
        "print(cr)"
      ]
    },
    {
      "cell_type": "markdown",
      "metadata": {
        "id": "jySXqDZH6GRJ"
      },
      "source": [
        "# From the above classification report, we can see that though our model performance is not so good, the predictions are on an average close to 60% accuracy.\n",
        "## If we manage to collect more data and balance the meeting link clicked column, our model would make much robust predictions."
      ]
    }
  ],
  "metadata": {
    "colab": {
      "provenance": []
    },
    "kernelspec": {
      "display_name": "Python 3",
      "name": "python3"
    },
    "language_info": {
      "name": "python"
    }
  },
  "nbformat": 4,
  "nbformat_minor": 0
}
